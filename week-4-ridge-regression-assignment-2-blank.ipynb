{
 "cells": [
  {
   "cell_type": "markdown",
   "metadata": {},
   "source": [
    "# Regression Week 4: Ridge Regression (gradient descent)"
   ]
  },
  {
   "cell_type": "markdown",
   "metadata": {},
   "source": [
    "In this notebook, you will implement ridge regression via gradient descent. You will:\n",
    "* Convert an SFrame into a Numpy array\n",
    "* Write a Numpy function to compute the derivative of the regression weights with respect to a single feature\n",
    "* Write gradient descent function to compute the regression weights given an initial weight vector, step size, tolerance, and L2 penalty"
   ]
  },
  {
   "cell_type": "markdown",
   "metadata": {},
   "source": [
    "# Import libraries"
   ]
  },
  {
   "cell_type": "markdown",
   "metadata": {},
   "source": [
    "Make sure you have the latest version of GraphLab Create (>= 1.7)"
   ]
  },
  {
   "cell_type": "code",
   "execution_count": 30,
   "metadata": {},
   "outputs": [],
   "source": [
    "import graphlab\n",
    "import pandas as pd"
   ]
  },
  {
   "cell_type": "markdown",
   "metadata": {},
   "source": [
    "# Load in house sales data\n",
    "\n",
    "Dataset is from house sales in King County, the region where the city of Seattle, WA is located."
   ]
  },
  {
   "cell_type": "code",
   "execution_count": 31,
   "metadata": {},
   "outputs": [],
   "source": [
    "dtype_dict = {'bathrooms':float, 'waterfront':int, 'sqft_above':int, 'sqft_living15':float, 'grade':int, 'yr_renovated':int, 'price':float, 'bedrooms':float, 'zipcode':str, 'long':float, 'sqft_lot15':float, 'sqft_living':float, 'floors':str, 'condition':int, 'lat':float, 'date':str, 'sqft_basement':int, 'yr_built':int, 'id':str, 'sqft_lot':int, 'view':int}\n",
    "\n",
    "#sales = graphlab.SFrame('kc_house_data.gl/')\n",
    "sales = pd.read_csv('kc_house_data.csv',dtype=dtype_dict)\n"
   ]
  },
  {
   "cell_type": "markdown",
   "metadata": {},
   "source": [
    "If we want to do any \"feature engineering\" like creating new features or adjusting existing ones we should do this directly using the SFrames as seen in the first notebook of Week 2. For this notebook, however, we will work with the existing features."
   ]
  },
  {
   "cell_type": "markdown",
   "metadata": {},
   "source": [
    "# Import useful functions from previous notebook"
   ]
  },
  {
   "cell_type": "markdown",
   "metadata": {},
   "source": [
    "As in Week 2, we convert the SFrame into a 2D Numpy array. Copy and paste `get_numpy_data()` from the second notebook of Week 2."
   ]
  },
  {
   "cell_type": "code",
   "execution_count": 32,
   "metadata": {},
   "outputs": [],
   "source": [
    "import numpy as np # note this allows us to refer to numpy as np instead "
   ]
  },
  {
   "cell_type": "code",
   "execution_count": 33,
   "metadata": {},
   "outputs": [],
   "source": [
    "def get_numpy_data(data_sframe, features, output):    \n",
    "    data_sframe['constant'] = 1 # this is how you add a constant column to an SFrame\n",
    "    # add the column 'constant' to the front of the features list so that we can extract it along with the others:\n",
    "    features = ['constant'] + features # this is how you combine two lists\n",
    "    # select the columns of data_SFrame given by the features list into the SFrame features_sframe (now including constant):\n",
    "    features_sframe=data_sframe[features]\n",
    "    # the following line will convert the features_SFrame into a numpy matrix:\n",
    "    feature_matrix = features_sframe.to_numpy()\n",
    "    # assign the column of data_sframe associated with the output to the SArray output_sarray\n",
    "    output_sarray = data_sframe[output]\n",
    "    # the following will convert the SArray into a numpy array by first converting it to a list\n",
    "    output_array = output_sarray.to_numpy()\n",
    "    return(feature_matrix, output_array)"
   ]
  },
  {
   "cell_type": "markdown",
   "metadata": {},
   "source": [
    "Also, copy and paste the `predict_output()` function to compute the predictions for an entire matrix of features given the matrix and the weights:"
   ]
  },
  {
   "cell_type": "code",
   "execution_count": 34,
   "metadata": {},
   "outputs": [],
   "source": [
    "def predict_output(feature_matrix, weights):\n",
    "    # assume feature_matrix is a numpy matrix containing the features as columns and weights is a corresponding numpy array\n",
    "    # create the predictions vector by using np.dot()\n",
    "    predictions=np.dot(feature_matrix,weights)\n",
    "    return(predictions)"
   ]
  },
  {
   "cell_type": "markdown",
   "metadata": {},
   "source": [
    "# Computing the Derivative"
   ]
  },
  {
   "cell_type": "markdown",
   "metadata": {},
   "source": [
    "We are now going to move to computing the derivative of the regression cost function. Recall that the cost function is the sum over the data points of the squared difference between an observed output and a predicted output, plus the L2 penalty term.\n",
    "```\n",
    "Cost(w)\n",
    "= SUM[ (prediction - output)^2 ]\n",
    "+ l2_penalty*(w[0]^2 + w[1]^2 + ... + w[k]^2).\n",
    "```\n",
    "\n",
    "Since the derivative of a sum is the sum of the derivatives, we can take the derivative of the first part (the RSS) as we did in the notebook for the unregularized case in Week 2 and add the derivative of the regularization part.  As we saw, the derivative of the RSS with respect to `w[i]` can be written as: \n",
    "```\n",
    "2*SUM[ error*[feature_i] ].\n",
    "```\n",
    "The derivative of the regularization term with respect to `w[i]` is:\n",
    "```\n",
    "2*l2_penalty*w[i].\n",
    "```\n",
    "Summing both, we get\n",
    "```\n",
    "2*SUM[ error*[feature_i] ] + 2*l2_penalty*w[i].\n",
    "```\n",
    "That is, the derivative for the weight for feature i is the sum (over data points) of 2 times the product of the error and the feature itself, plus `2*l2_penalty*w[i]`. \n",
    "\n",
    "**We will not regularize the constant.**  Thus, in the case of the constant, the derivative is just twice the sum of the errors (without the `2*l2_penalty*w[0]` term).\n",
    "\n",
    "Recall that twice the sum of the product of two vectors is just twice the dot product of the two vectors. Therefore the derivative for the weight for feature_i is just two times the dot product between the values of feature_i and the current errors, plus `2*l2_penalty*w[i]`.\n",
    "\n",
    "With this in mind complete the following derivative function which computes the derivative of the weight given the value of the feature (over all data points) and the errors (over all data points).  To decide when to we are dealing with the constant (so we don't regularize it) we added the extra parameter to the call `feature_is_constant` which you should set to `True` when computing the derivative of the constant and `False` otherwise."
   ]
  },
  {
   "cell_type": "code",
   "execution_count": 35,
   "metadata": {},
   "outputs": [],
   "source": [
    "def feature_derivative_ridge(errors, feature, weight, l2_penalty, feature_is_constant):\n",
    "    # If feature_is_constant is True, derivative is twice the dot product of errors and feature\n",
    "    derivative = 2.*(errors*feature).sum()\n",
    "    if feature_is_constant==False:\n",
    "         derivative+=2*l2_penalty*weight \n",
    "    # Otherwise, derivative is twice the dot product plus 2*l2_penalty*weight\n",
    "    return derivative"
   ]
  },
  {
   "cell_type": "markdown",
   "metadata": {},
   "source": [
    "To test your feature derivartive run the following:"
   ]
  },
  {
   "cell_type": "code",
   "execution_count": 36,
   "metadata": {},
   "outputs": [
    {
     "name": "stdout",
     "output_type": "stream",
     "text": [
      "-56554166815950.0\n",
      "-56554166815950.0\n",
      "\n",
      "-22446749330.0\n",
      "-22446749330.0\n"
     ]
    }
   ],
   "source": [
    "(example_features, example_output) = get_numpy_data(sales, ['sqft_living'], 'price') \n",
    "my_weights = np.array([1., 10.])\n",
    "test_predictions = predict_output(example_features, my_weights) \n",
    "errors = test_predictions - example_output # prediction errors\n",
    "\n",
    "# next two lines should print the same values\n",
    "print feature_derivative_ridge(errors, example_features[:,1], my_weights[1], 1, False)\n",
    "print np.sum(errors*example_features[:,1])*2+20.\n",
    "print ''\n",
    "\n",
    "# next two lines should print the same values\n",
    "print feature_derivative_ridge(errors, example_features[:,0], my_weights[0], 1, True)\n",
    "print np.sum(errors)*2."
   ]
  },
  {
   "cell_type": "markdown",
   "metadata": {},
   "source": [
    "# Gradient Descent"
   ]
  },
  {
   "cell_type": "markdown",
   "metadata": {},
   "source": [
    "Now we will write a function that performs a gradient descent. The basic premise is simple. Given a starting point we update the current weights by moving in the negative gradient direction. Recall that the gradient is the direction of *increase* and therefore the negative gradient is the direction of *decrease* and we're trying to *minimize* a cost function. \n",
    "\n",
    "The amount by which we move in the negative gradient *direction*  is called the 'step size'. We stop when we are 'sufficiently close' to the optimum. Unlike in Week 2, this time we will set a **maximum number of iterations** and take gradient steps until we reach this maximum number. If no maximum number is supplied, the maximum should be set 100 by default. (Use default parameter values in Python.)\n",
    "\n",
    "With this in mind, complete the following gradient descent function below using your derivative function above. For each step in the gradient descent, we update the weight for each feature before computing our stopping criteria."
   ]
  },
  {
   "cell_type": "code",
   "execution_count": 37,
   "metadata": {},
   "outputs": [],
   "source": [
    "def ridge_regression_gradient_descent(feature_matrix, output, initial_weights, step_size, l2_penalty, max_iterations=100):\n",
    "    print 'Starting gradient descent with l2_penalty = ' + str(l2_penalty)\n",
    "    \n",
    "    weights = np.array(initial_weights) # make sure it's a numpy array\n",
    "    iteration = 0 # iteration counter\n",
    "    print_frequency = 1  # for adjusting frequency of debugging output\n",
    "    \n",
    "    while not iteration==max_iterations:\n",
    "        iteration += 1  # increment iteration counter\n",
    "        ### === code section for adjusting frequency of debugging output. ===\n",
    "        if iteration == 10:\n",
    "            print_frequency = 10\n",
    "        if iteration == 100:\n",
    "            print_frequency = 100\n",
    "        if iteration%print_frequency==0:\n",
    "            print('Iteration = ' + str(iteration))\n",
    "        ### === end code section ===\n",
    "        \n",
    "        # compute the predictions based on feature_matrix and weights using your predict_output() function\n",
    "        predictions = predict_output(feature_matrix, weights)\n",
    "        # compute the errors as predictions - output\n",
    "        errors = predictions - output\n",
    "        # from time to time, print the value of the cost function\n",
    "        if iteration%print_frequency==0:\n",
    "            print 'Cost function = ', str(np.dot(errors,errors) + l2_penalty*(np.dot(weights,weights) - weights[0]**2))\n",
    "        \n",
    "        for i in xrange(len(weights)): # loop over each weight\n",
    "            # Recall that feature_matrix[:,i] is the feature column associated with weights[i]\n",
    "            # compute the derivative for weight[i].\n",
    "            #(Remember: when i=0, you are computing the derivative of the constant!)\n",
    "            derivative = feature_derivative_ridge(errors, feature_matrix[:,i], weights[i], l2_penalty, i==0)\n",
    "            # subtract the step size times the derivative from the current weight\n",
    "            weights[i]-=2.*step_size*derivative\n",
    "    print 'Done with gradient descent at iteration ', iteration\n",
    "    print 'Learned weights = ', str(weights)\n",
    "    return weights"
   ]
  },
  {
   "cell_type": "markdown",
   "metadata": {},
   "source": [
    "# Visualizing effect of L2 penalty"
   ]
  },
  {
   "cell_type": "markdown",
   "metadata": {},
   "source": [
    "The L2 penalty gets its name because it causes weights to have small L2 norms than otherwise. Let's see how large weights get penalized. Let us consider a simple model with 1 feature:"
   ]
  },
  {
   "cell_type": "code",
   "execution_count": 38,
   "metadata": {},
   "outputs": [],
   "source": [
    "simple_features = ['sqft_living']\n",
    "my_output = 'price'"
   ]
  },
  {
   "cell_type": "markdown",
   "metadata": {},
   "source": [
    "Let us split the dataset into training set and test set. Make sure to use `seed=0`:"
   ]
  },
  {
   "cell_type": "code",
   "execution_count": 39,
   "metadata": {},
   "outputs": [],
   "source": [
    "#train_data,test_data = sales.random_split(.8,seed=0)\n",
    "train_data = pd.read_csv('kc_house_train_data.csv',dtype=dtype_dict)\n",
    "\n"
   ]
  },
  {
   "cell_type": "markdown",
   "metadata": {},
   "source": [
    "In this part, we will only use `'sqft_living'` to predict `'price'`. Use the `get_numpy_data` function to get a Numpy versions of your data with only this feature, for both the `train_data` and the `test_data`. "
   ]
  },
  {
   "cell_type": "code",
   "execution_count": 40,
   "metadata": {},
   "outputs": [],
   "source": [
    "(simple_feature_matrix, output) = get_numpy_data(train_data, simple_features, my_output)\n"
   ]
  },
  {
   "cell_type": "markdown",
   "metadata": {},
   "source": [
    "Let's set the parameters for our optimization:"
   ]
  },
  {
   "cell_type": "markdown",
   "metadata": {},
   "source": [
    "# Question 1\n",
    "## What is the value of the coefficient for sqft_living that you learned with no regularization, rounded to 1 decimal place? What about the one with high regularization?\n",
    "answer:263.0, 124.6"
   ]
  },
  {
   "cell_type": "code",
   "execution_count": 41,
   "metadata": {},
   "outputs": [],
   "source": [
    "initial_weights = np.array([0., 0.])\n",
    "step_size = 1e-12\n",
    "max_iterations=1000"
   ]
  },
  {
   "cell_type": "markdown",
   "metadata": {},
   "source": [
    "First, let's consider no regularization.  Set the `l2_penalty` to `0.0` and run your ridge regression algorithm to learn the weights of your model.  Call your weights:\n",
    "\n",
    "`simple_weights_0_penalty`\n",
    "\n",
    "we'll use them later."
   ]
  },
  {
   "cell_type": "code",
   "execution_count": 42,
   "metadata": {},
   "outputs": [
    {
     "name": "stdout",
     "output_type": "stream",
     "text": [
      "Starting gradient descent with l2_penalty = 0.0\n",
      "Iteration = 1\n",
      "Cost function =  7433051852335772.0\n",
      "Iteration = 2\n",
      "Cost function =  3758647708000075.5\n",
      "Iteration = 3\n",
      "Cost function =  2253187831263489.0\n",
      "Iteration = 4\n",
      "Cost function =  1636377771286126.5\n",
      "Iteration = 5\n",
      "Cost function =  1383661205375510.0\n",
      "Iteration = 6\n",
      "Cost function =  1280119342392504.5\n",
      "Iteration = 7\n",
      "Cost function =  1237696648952971.0\n",
      "Iteration = 8\n",
      "Cost function =  1220315419061694.5\n",
      "Iteration = 9\n",
      "Cost function =  1213194061831034.0\n",
      "Iteration = 10\n",
      "Cost function =  1210276332188242.5\n",
      "Iteration = 20\n",
      "Cost function =  1208251410489128.5\n",
      "Iteration = 30\n",
      "Cost function =  1208251139126694.0\n",
      "Iteration = 40\n",
      "Cost function =  1208251137645477.0\n",
      "Iteration = 50\n",
      "Cost function =  1208251136200234.5\n",
      "Iteration = 60\n",
      "Cost function =  1208251134754996.8\n",
      "Iteration = 70\n",
      "Cost function =  1208251133309759.5\n",
      "Iteration = 80\n",
      "Cost function =  1208251131864522.0\n",
      "Iteration = 90\n",
      "Cost function =  1208251130419286.5\n",
      "Iteration = 100\n",
      "Cost function =  1208251128974050.5\n",
      "Iteration = 200\n",
      "Cost function =  1208251114521707.5\n",
      "Iteration = 300\n",
      "Cost function =  1208251100069397.8\n",
      "Iteration = 400\n",
      "Cost function =  1208251085617120.5\n",
      "Iteration = 500\n",
      "Cost function =  1208251071164876.0\n",
      "Iteration = 600\n",
      "Cost function =  1208251056712665.2\n",
      "Iteration = 700\n",
      "Cost function =  1208251042260487.0\n",
      "Iteration = 800\n",
      "Cost function =  1208251027808341.8\n",
      "Iteration = 900\n",
      "Cost function =  1208251013356228.8\n",
      "Iteration = 1000\n",
      "Cost function =  1208250998904150.5\n",
      "Done with gradient descent at iteration  1000\n",
      "Learned weights =  [ -0.43192704 263.02447699]\n"
     ]
    }
   ],
   "source": [
    "l2_penalty=0.0\n",
    "simple_weights_0_penalty = ridge_regression_gradient_descent(simple_feature_matrix, output, initial_weights, step_size, l2_penalty, max_iterations)"
   ]
  },
  {
   "cell_type": "code",
   "execution_count": 43,
   "metadata": {},
   "outputs": [
    {
     "name": "stdout",
     "output_type": "stream",
     "text": [
      "263.0\n"
     ]
    }
   ],
   "source": [
    "print round(simple_weights_0_penalty[1],1)"
   ]
  },
  {
   "cell_type": "markdown",
   "metadata": {},
   "source": [
    "Next, let's consider high regularization.  Set the `l2_penalty` to `1e11` and run your ridge regression algorithm to learn the weights of your model.  Call your weights:\n",
    "\n",
    "`simple_weights_high_penalty`\n",
    "\n",
    "we'll use them later."
   ]
  },
  {
   "cell_type": "code",
   "execution_count": 44,
   "metadata": {},
   "outputs": [
    {
     "name": "stdout",
     "output_type": "stream",
     "text": [
      "Starting gradient descent with l2_penalty = 1e+11\n",
      "Iteration = 1\n",
      "Cost function =  7433051852335772.0\n",
      "Iteration = 2\n",
      "Cost function =  4654794449509116.0\n",
      "Iteration = 3\n",
      "Cost function =  4494646384858826.0\n",
      "Iteration = 4\n",
      "Cost function =  4485414745251326.5\n",
      "Iteration = 5\n",
      "Cost function =  4484882424276406.0\n",
      "Iteration = 6\n",
      "Cost function =  4484851560612391.0\n",
      "Iteration = 7\n",
      "Cost function =  4484849602595519.0\n",
      "Iteration = 8\n",
      "Cost function =  4484849310795145.0\n",
      "Iteration = 9\n",
      "Cost function =  4484849115040979.5\n",
      "Iteration = 10\n",
      "Cost function =  4484848924823249.5\n",
      "Iteration = 20\n",
      "Cost function =  4484847026012687.0\n",
      "Iteration = 30\n",
      "Cost function =  4484845127224434.0\n",
      "Iteration = 40\n",
      "Cost function =  4484843228437776.0\n",
      "Iteration = 50\n",
      "Cost function =  4484841329652714.0\n",
      "Iteration = 60\n",
      "Cost function =  4484839430869248.0\n",
      "Iteration = 70\n",
      "Cost function =  4484837532087375.0\n",
      "Iteration = 80\n",
      "Cost function =  4484835633307099.0\n",
      "Iteration = 90\n",
      "Cost function =  4484833734528418.0\n",
      "Iteration = 100\n",
      "Cost function =  4484831835751331.5\n",
      "Iteration = 200\n",
      "Cost function =  4484812848068207.0\n",
      "Iteration = 300\n",
      "Cost function =  4484793860544606.0\n",
      "Iteration = 400\n",
      "Cost function =  4484774873180524.0\n",
      "Iteration = 500\n",
      "Cost function =  4484755885975959.0\n",
      "Iteration = 600\n",
      "Cost function =  4484736898930912.5\n",
      "Iteration = 700\n",
      "Cost function =  4484717912045380.0\n",
      "Iteration = 800\n",
      "Cost function =  4484698925319364.5\n",
      "Iteration = 900\n",
      "Cost function =  4484679938752860.0\n",
      "Iteration = 1000\n",
      "Cost function =  4484660952345866.0\n",
      "Done with gradient descent at iteration  1000\n",
      "Learned weights =  [ 19.51069249 124.57032117]\n"
     ]
    }
   ],
   "source": [
    "l2_penalty=1e11\n",
    "simple_weights_high_penalty = ridge_regression_gradient_descent(simple_feature_matrix, output, initial_weights, step_size, l2_penalty, max_iterations)\n"
   ]
  },
  {
   "cell_type": "code",
   "execution_count": 45,
   "metadata": {},
   "outputs": [
    {
     "name": "stdout",
     "output_type": "stream",
     "text": [
      "124.6\n"
     ]
    }
   ],
   "source": [
    "print round(simple_weights_high_penalty[1],1)"
   ]
  },
  {
   "cell_type": "markdown",
   "metadata": {},
   "source": [
    "This code will plot the two learned models.  (The blue line is for the model with no regularization and the red line is for the one with high regularization.)"
   ]
  },
  {
   "cell_type": "code",
   "execution_count": 46,
   "metadata": {},
   "outputs": [
    {
     "name": "stdout",
     "output_type": "stream",
     "text": [
      "This non-commercial license of GraphLab Create for academic use is assigned to javierlunamisetich@gmail.com and will expire on September 05, 2020.\n"
     ]
    },
    {
     "name": "stderr",
     "output_type": "stream",
     "text": [
      "[INFO] graphlab.cython.cy_server: GraphLab Create v2.1 started. Logging: /tmp/graphlab_server_1568567350.log\n"
     ]
    },
    {
     "data": {
      "text/plain": [
       "[<matplotlib.lines.Line2D at 0x7fc91b217a50>]"
      ]
     },
     "execution_count": 46,
     "metadata": {},
     "output_type": "execute_result"
    },
    {
     "data": {
      "image/png": "[encoded data removed]",
      "text/plain": [
       "<Figure size 432x288 with 1 Axes>"
      ]
     },
     "metadata": {
      "needs_background": "light"
     },
     "output_type": "display_data"
    }
   ],
   "source": [
    "import matplotlib.pyplot as plt\n",
    "%matplotlib inline\n",
    "plt.plot(simple_feature_matrix[:,1],output,'k.')\n"
   ]
  },
  {
   "cell_type": "code",
   "execution_count": 47,
   "metadata": {},
   "outputs": [
    {
     "data": {
      "text/plain": [
       "[<matplotlib.lines.Line2D at 0x7fc91b15e910>,\n",
       " <matplotlib.lines.Line2D at 0x7fc91b15e990>,\n",
       " <matplotlib.lines.Line2D at 0x7fc91b16a210>]"
      ]
     },
     "execution_count": 47,
     "metadata": {},
     "output_type": "execute_result"
    },
    {
     "data": {
      "image/png": "[encoded data removed]",
      "text/plain": [
       "<Figure size 432x288 with 1 Axes>"
      ]
     },
     "metadata": {
      "needs_background": "light"
     },
     "output_type": "display_data"
    }
   ],
   "source": [
    "\n",
    "plt.plot(simple_feature_matrix[:,1],output,'k.',\n",
    "         simple_feature_matrix[:,1],predict_output(simple_feature_matrix, simple_weights_0_penalty),'b-',\n",
    "        simple_feature_matrix[:,1],predict_output(simple_feature_matrix, simple_weights_high_penalty),'r-')"
   ]
  },
  {
   "cell_type": "markdown",
   "metadata": {},
   "source": [
    "Compute the RSS on the TEST data for the following three sets of weights:\n",
    "1. The initial weights (all zeros)\n",
    "2. The weights learned with no regularization\n",
    "3. The weights learned with high regularization\n",
    "\n",
    "Which weights perform best?"
   ]
  },
  {
   "cell_type": "code",
   "execution_count": null,
   "metadata": {},
   "outputs": [],
   "source": []
  },
  {
   "cell_type": "code",
   "execution_count": null,
   "metadata": {},
   "outputs": [],
   "source": []
  },
  {
   "cell_type": "code",
   "execution_count": null,
   "metadata": {},
   "outputs": [],
   "source": []
  },
  {
   "cell_type": "markdown",
   "metadata": {},
   "source": [
    "***QUIZ QUESTIONS***\n",
    "1. What is the value of the coefficient for `sqft_living` that you learned with no regularization, rounded to 1 decimal place?  What about the one with high regularization?\n",
    "2. Comparing the lines you fit with the with no regularization versus high regularization, which one is steeper?\n",
    "3. What are the RSS on the test data for each of the set of weights above (initial, no regularization, high regularization)? \n"
   ]
  },
  {
   "cell_type": "markdown",
   "metadata": {},
   "source": [
    "# Running a multiple regression with L2 penalty"
   ]
  },
  {
   "cell_type": "markdown",
   "metadata": {},
   "source": [
    "Let us now consider a model with 2 features: `['sqft_living', 'sqft_living15']`."
   ]
  },
  {
   "cell_type": "markdown",
   "metadata": {},
   "source": [
    "First, create Numpy versions of your training and test data with these two features. "
   ]
  },
  {
   "cell_type": "code",
   "execution_count": 48,
   "metadata": {},
   "outputs": [],
   "source": [
    "model_features = ['sqft_living', 'sqft_living15'] # sqft_living15 is the average squarefeet for the nearest 15 neighbors. \n",
    "my_output = 'price'\n",
    "(feature_matrix, output) = get_numpy_data(train_data, model_features, my_output)\n",
    "(test_feature_matrix, test_output) = get_numpy_data(test_data, model_features, my_output)"
   ]
  },
  {
   "cell_type": "markdown",
   "metadata": {},
   "source": [
    "We need to re-inialize the weights, since we have one extra parameter. Let us also set the step size and maximum number of iterations."
   ]
  },
  {
   "cell_type": "code",
   "execution_count": 49,
   "metadata": {},
   "outputs": [],
   "source": [
    "initial_weights = np.array([0.0,0.0,0.0])\n",
    "step_size = 1e-12\n",
    "max_iterations = 1000"
   ]
  },
  {
   "cell_type": "markdown",
   "metadata": {},
   "source": [
    "First, let's consider no regularization.  Set the `l2_penalty` to `0.0` and run your ridge regression algorithm to learn the weights of your model.  Call your weights:\n",
    "\n",
    "`multiple_weights_0_penalty`"
   ]
  },
  {
   "cell_type": "code",
   "execution_count": null,
   "metadata": {},
   "outputs": [],
   "source": []
  },
  {
   "cell_type": "markdown",
   "metadata": {},
   "source": [
    "Next, let's consider high regularization.  Set the `l2_penalty` to `1e11` and run your ridge regression algorithm to learn the weights of your model.  Call your weights:\n",
    "\n",
    "`multiple_weights_high_penalty`"
   ]
  },
  {
   "cell_type": "code",
   "execution_count": null,
   "metadata": {},
   "outputs": [],
   "source": []
  },
  {
   "cell_type": "markdown",
   "metadata": {},
   "source": [
    "Compute the RSS on the TEST data for the following three sets of weights:\n",
    "1. The initial weights (all zeros)\n",
    "2. The weights learned with no regularization\n",
    "3. The weights learned with high regularization\n",
    "\n",
    "Which weights perform best?"
   ]
  },
  {
   "cell_type": "code",
   "execution_count": null,
   "metadata": {},
   "outputs": [],
   "source": []
  },
  {
   "cell_type": "code",
   "execution_count": null,
   "metadata": {},
   "outputs": [],
   "source": []
  },
  {
   "cell_type": "code",
   "execution_count": null,
   "metadata": {},
   "outputs": [],
   "source": []
  },
  {
   "cell_type": "markdown",
   "metadata": {},
   "source": [
    "Predict the house price for the 1st house in the test set using the no regularization and high regularization models. (Remember that python starts indexing from 0.) How far is the prediction from the actual price?  Which weights perform best for the 1st house?"
   ]
  },
  {
   "cell_type": "code",
   "execution_count": 50,
   "metadata": {},
   "outputs": [],
   "source": [
    "simple_features = ['sqft_living']\n",
    "my_output = 'price'"
   ]
  },
  {
   "cell_type": "code",
   "execution_count": 51,
   "metadata": {},
   "outputs": [],
   "source": [
    "test_data = pd.read_csv('kc_house_test_data.csv',dtype=dtype_dict)\n",
    "(simple_test_feature_matrix, test_output) = get_numpy_data(test_data, simple_features, my_output)\n"
   ]
  },
  {
   "cell_type": "markdown",
   "metadata": {
    "collapsed": true
   },
   "source": [
    "***QUIZ QUESTIONS***\n",
    "1. What is the value of the coefficient for `sqft_living` that you learned with no regularization, rounded to 1 decimal place?  What about the one with high regularization?\n",
    "2. What are the RSS on the test data for each of the set of weights above (initial, no regularization, high regularization)? \n",
    "3. We make prediction for the first house in the test set using two sets of weights (no regularization vs high regularization). Which weights make better prediction <u>for that particular house</u>?"
   ]
  },
  {
   "cell_type": "markdown",
   "metadata": {},
   "source": [
    "# Question 2\n",
    "##  What are the RSS on the test data for each of the set of weights above (initial, no regularization, high regularization)? \n",
    "\n"
   ]
  },
  {
   "cell_type": "code",
   "execution_count": 73,
   "metadata": {},
   "outputs": [
    {
     "name": "stdout",
     "output_type": "stream",
     "text": [
      "1784273286136298.0\n"
     ]
    }
   ],
   "source": [
    "#initial\n",
    "initial_weights = np.array([0., 0.])\n",
    "predicted_initial = predict_output(simple_test_feature_matrix, initial_weights)\n",
    "RSS_initial = (test_output-predicted_initial)**2\n",
    "\n",
    "print RSS_initial.sum()\n",
    "\n",
    "\n"
   ]
  },
  {
   "cell_type": "markdown",
   "metadata": {},
   "source": [
    "# Segunda parte "
   ]
  },
  {
   "cell_type": "code",
   "execution_count": 76,
   "metadata": {},
   "outputs": [],
   "source": [
    "two_features = ['sqft_living','sqft_living15']\n",
    "my_output = 'price'"
   ]
  },
  {
   "cell_type": "code",
   "execution_count": 77,
   "metadata": {},
   "outputs": [],
   "source": [
    "#train_data,test_data = sales.random_split(.8,seed=0)\n",
    "train_data = pd.read_csv('kc_house_train_data.csv',dtype=dtype_dict)\n"
   ]
  },
  {
   "cell_type": "code",
   "execution_count": 78,
   "metadata": {},
   "outputs": [],
   "source": [
    "(two_feature_matrix, output) = get_numpy_data(train_data, two_features, my_output)\n"
   ]
  },
  {
   "cell_type": "markdown",
   "metadata": {},
   "source": [
    "## No regularization"
   ]
  },
  {
   "cell_type": "code",
   "execution_count": 79,
   "metadata": {},
   "outputs": [],
   "source": [
    "initial_weights = np.array([0., 0.,0.])\n",
    "step_size = 1e-12"
   ]
  },
  {
   "cell_type": "code",
   "execution_count": 80,
   "metadata": {
    "scrolled": true
   },
   "outputs": [
    {
     "name": "stdout",
     "output_type": "stream",
     "text": [
      "Starting gradient descent with l2_penalty = 0.0\n",
      "Iteration = 1\n",
      "Cost function =  7433051852335772.0\n",
      "Iteration = 2\n",
      "Cost function =  2002603652025644.0\n",
      "Iteration = 3\n",
      "Cost function =  1355218432770515.5\n",
      "Iteration = 4\n",
      "Cost function =  1276906558678275.0\n",
      "Iteration = 5\n",
      "Cost function =  1266327954140712.0\n",
      "Iteration = 6\n",
      "Cost function =  1263837353418656.5\n",
      "Iteration = 7\n",
      "Cost function =  1262338043275991.2\n",
      "Iteration = 8\n",
      "Cost function =  1260985040698196.2\n",
      "Iteration = 9\n",
      "Cost function =  1259677148652306.0\n",
      "Iteration = 10\n",
      "Cost function =  1258401674282311.0\n",
      "Iteration = 20\n",
      "Cost function =  1247191642536575.2\n",
      "Iteration = 30\n",
      "Cost function =  1238361907790408.2\n",
      "Iteration = 40\n",
      "Cost function =  1231407028136558.5\n",
      "Iteration = 50\n",
      "Cost function =  1225928907503311.2\n",
      "Iteration = 60\n",
      "Cost function =  1221613979275636.0\n",
      "Iteration = 70\n",
      "Cost function =  1218215257790905.5\n",
      "Iteration = 80\n",
      "Cost function =  1215538200917976.2\n",
      "Iteration = 90\n",
      "Cost function =  1213429574495855.2\n",
      "Iteration = 100\n",
      "Cost function =  1211768681234157.0\n",
      "Done with gradient descent at iteration  100\n",
      "Learned weights =  [-4.65724739e-02  2.12807041e+02  5.52595142e+01]\n"
     ]
    }
   ],
   "source": [
    "l2_penalty=0.0\n",
    "two_weights_0_penalty = ridge_regression_gradient_descent(two_feature_matrix, output, initial_weights, step_size, l2_penalty)"
   ]
  },
  {
   "cell_type": "code",
   "execution_count": 89,
   "metadata": {},
   "outputs": [
    {
     "data": {
      "text/plain": [
       "212.8"
      ]
     },
     "execution_count": 89,
     "metadata": {},
     "output_type": "execute_result"
    }
   ],
   "source": [
    "round(two_weights_0_penalty[1],1)"
   ]
  },
  {
   "cell_type": "markdown",
   "metadata": {},
   "source": [
    "## With regularization"
   ]
  },
  {
   "cell_type": "code",
   "execution_count": 82,
   "metadata": {},
   "outputs": [],
   "source": [
    "initial_weights = np.array([0., 0.,0.])\n",
    "step_size = 1e-12"
   ]
  },
  {
   "cell_type": "code",
   "execution_count": 66,
   "metadata": {},
   "outputs": [
    {
     "name": "stdout",
     "output_type": "stream",
     "text": [
      "Starting gradient descent with l2_penalty = 1e+11\n",
      "Iteration = 1\n",
      "Cost function =  7433051852335772.0\n",
      "Iteration = 2\n",
      "Cost function =  3617553487529995.0\n",
      "Iteration = 3\n",
      "Cost function =  3605555422904288.0\n",
      "Iteration = 4\n",
      "Cost function =  3605372698296998.5\n",
      "Iteration = 5\n",
      "Cost function =  3605321470288859.0\n",
      "Iteration = 6\n",
      "Cost function =  3605303727702327.0\n",
      "Iteration = 7\n",
      "Cost function =  3605297531484612.0\n",
      "Iteration = 8\n",
      "Cost function =  3605295329102676.5\n",
      "Iteration = 9\n",
      "Cost function =  3605294508208005.0\n",
      "Iteration = 10\n",
      "Cost function =  3605294165176631.0\n",
      "Iteration = 20\n",
      "Cost function =  3605293128310309.0\n",
      "Iteration = 30\n",
      "Cost function =  3605292225077715.0\n",
      "Iteration = 40\n",
      "Cost function =  3605291321848970.0\n",
      "Iteration = 50\n",
      "Cost function =  3605290418620795.5\n",
      "Iteration = 60\n",
      "Cost function =  3605289515393192.0\n",
      "Iteration = 70\n",
      "Cost function =  3605288612166160.0\n",
      "Iteration = 80\n",
      "Cost function =  3605287708939698.5\n",
      "Iteration = 90\n",
      "Cost function =  3605286805713807.5\n",
      "Iteration = 100\n",
      "Cost function =  3605285902488490.0\n",
      "Done with gradient descent at iteration  100\n",
      "Learned weights =  [ 1.36683032 91.48999121 78.43731244]\n"
     ]
    }
   ],
   "source": [
    "l2_penalty=1e11\n",
    "two_weights_high_penalty = ridge_regression_gradient_descent(two_feature_matrix, output, initial_weights, step_size, l2_penalty)"
   ]
  },
  {
   "cell_type": "code",
   "execution_count": 85,
   "metadata": {},
   "outputs": [
    {
     "data": {
      "text/plain": [
       "91.5"
      ]
     },
     "execution_count": 85,
     "metadata": {},
     "output_type": "execute_result"
    }
   ],
   "source": [
    "round(two_weights_high_penalty[1],1)"
   ]
  },
  {
   "cell_type": "code",
   "execution_count": 88,
   "metadata": {},
   "outputs": [
    {
     "name": "stdout",
     "output_type": "stream",
     "text": [
      "RSS_0 273978565684786.44\n",
      "92675.95792956155\n"
     ]
    }
   ],
   "source": [
    "#testeo\n",
    "test_data = pd.read_csv('kc_house_test_data.csv',dtype=dtype_dict)\n",
    "(two_test_feature_matrix, test_output) = get_numpy_data(test_data, two_features, 'price')\n",
    "\n",
    "predictions_0_penalty = predict_output(two_test_feature_matrix, two_weights_0_penalty)\n",
    "predictions_high_penalty = predict_output(two_test_feature_matrix, two_weights_high_penalty)\n",
    "\n",
    "residuals_0_penalty =(predictions_0_penalty-test_output)**2\n",
    "RSS_0= residuals_0_penalty.sum()\n",
    "\n",
    "print 'RSS_0', RSS_0\n",
    "print abs(predictions_0_penalty[0]-test_output[0])"
   ]
  },
  {
   "cell_type": "code",
   "execution_count": 86,
   "metadata": {},
   "outputs": [
    {
     "name": "stdout",
     "output_type": "stream",
     "text": [
      "RSS_high 500407777770157.1\n",
      "39549.5295950952\n"
     ]
    }
   ],
   "source": [
    "predictions_high_penalty = predict_output(two_test_feature_matrix, two_weights_high_penalty)\n",
    "\n",
    "residuals_high_penalty =(predictions_high_penalty-test_output)**2\n",
    "RSS_high= residuals_high_penalty.sum()\n",
    "\n",
    "print 'RSS_high', RSS_high\n",
    "print abs(predictions_high_penalty[0]-test_output[0])"
   ]
  },
  {
   "cell_type": "code",
   "execution_count": 87,
   "metadata": {},
   "outputs": [
    {
     "data": {
      "text/plain": [
       "-226429212085370.7"
      ]
     },
     "execution_count": 87,
     "metadata": {},
     "output_type": "execute_result"
    }
   ],
   "source": [
    "273978565684786.44-500407777770157.1"
   ]
  },
  {
   "cell_type": "code",
   "execution_count": null,
   "metadata": {},
   "outputs": [],
   "source": []
  }
 ],
 "metadata": {
  "kernelspec": {
   "display_name": "Python 2",
   "language": "python",
   "name": "python2"
  },
  "language_info": {
   "codemirror_mode": {
    "name": "ipython",
    "version": 2
   },
   "file_extension": ".py",
   "mimetype": "text/x-python",
   "name": "python",
   "nbconvert_exporter": "python",
   "pygments_lexer": "ipython2",
   "version": "2.7.16"
  }
 },
 "nbformat": 4,
 "nbformat_minor": 1
}
