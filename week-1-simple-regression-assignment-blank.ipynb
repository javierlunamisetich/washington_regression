{
 "cells": [
  {
   "cell_type": "markdown",
   "metadata": {},
   "source": [
    "# Regression Week 1: Simple Linear Regression"
   ]
  },
  {
   "cell_type": "markdown",
   "metadata": {},
   "source": [
    "In this notebook we will use data on house sales in King County to predict house prices using simple (one input) linear regression. You will:\n",
    "* Use graphlab SArray and SFrame functions to compute important summary statistics\n",
    "* Write a function to compute the Simple Linear Regression weights using the closed form solution\n",
    "* Write a function to make predictions of the output given the input feature\n",
    "* Turn the regression around to predict the input given the output\n",
    "* Compare two different models for predicting house prices\n",
    "\n",
    "In this notebook you will be provided with some already complete code as well as some code that you should complete yourself in order to answer quiz questions. The code we provide to complte is optional and is there to assist you with solving the problems but feel free to ignore the helper code and write your own."
   ]
  },
  {
   "cell_type": "markdown",
   "metadata": {},
   "source": [
    "# Fire up graphlab create"
   ]
  },
  {
   "cell_type": "code",
   "execution_count": 1,
   "metadata": {},
   "outputs": [],
   "source": [
    "import graphlab"
   ]
  },
  {
   "cell_type": "markdown",
   "metadata": {},
   "source": [
    "# Load house sales data\n",
    "\n",
    "Dataset is from house sales in King County, the region where the city of Seattle, WA is located."
   ]
  },
  {
   "cell_type": "code",
   "execution_count": 4,
   "metadata": {},
   "outputs": [
    {
     "data": {
      "text/html": [
       "<div style=\"max-height:1000px;max-width:1500px;overflow:auto;\"><table frame=\"box\" rules=\"cols\">\n",
       "    <tr>\n",
       "        <th style=\"padding-left: 1em; padding-right: 1em; text-align: center\">id</th>\n",
       "        <th style=\"padding-left: 1em; padding-right: 1em; text-align: center\">date</th>\n",
       "        <th style=\"padding-left: 1em; padding-right: 1em; text-align: center\">price</th>\n",
       "        <th style=\"padding-left: 1em; padding-right: 1em; text-align: center\">bedrooms</th>\n",
       "        <th style=\"padding-left: 1em; padding-right: 1em; text-align: center\">bathrooms</th>\n",
       "        <th style=\"padding-left: 1em; padding-right: 1em; text-align: center\">sqft_living</th>\n",
       "        <th style=\"padding-left: 1em; padding-right: 1em; text-align: center\">sqft_lot</th>\n",
       "        <th style=\"padding-left: 1em; padding-right: 1em; text-align: center\">floors</th>\n",
       "        <th style=\"padding-left: 1em; padding-right: 1em; text-align: center\">waterfront</th>\n",
       "    </tr>\n",
       "    <tr>\n",
       "        <td style=\"padding-left: 1em; padding-right: 1em; text-align: center; vertical-align: top\">7129300520</td>\n",
       "        <td style=\"padding-left: 1em; padding-right: 1em; text-align: center; vertical-align: top\">2014-10-13 00:00:00+00:00</td>\n",
       "        <td style=\"padding-left: 1em; padding-right: 1em; text-align: center; vertical-align: top\">221900.0</td>\n",
       "        <td style=\"padding-left: 1em; padding-right: 1em; text-align: center; vertical-align: top\">3.0</td>\n",
       "        <td style=\"padding-left: 1em; padding-right: 1em; text-align: center; vertical-align: top\">1.0</td>\n",
       "        <td style=\"padding-left: 1em; padding-right: 1em; text-align: center; vertical-align: top\">1180.0</td>\n",
       "        <td style=\"padding-left: 1em; padding-right: 1em; text-align: center; vertical-align: top\">5650</td>\n",
       "        <td style=\"padding-left: 1em; padding-right: 1em; text-align: center; vertical-align: top\">1</td>\n",
       "        <td style=\"padding-left: 1em; padding-right: 1em; text-align: center; vertical-align: top\">0</td>\n",
       "    </tr>\n",
       "    <tr>\n",
       "        <td style=\"padding-left: 1em; padding-right: 1em; text-align: center; vertical-align: top\">6414100192</td>\n",
       "        <td style=\"padding-left: 1em; padding-right: 1em; text-align: center; vertical-align: top\">2014-12-09 00:00:00+00:00</td>\n",
       "        <td style=\"padding-left: 1em; padding-right: 1em; text-align: center; vertical-align: top\">538000.0</td>\n",
       "        <td style=\"padding-left: 1em; padding-right: 1em; text-align: center; vertical-align: top\">3.0</td>\n",
       "        <td style=\"padding-left: 1em; padding-right: 1em; text-align: center; vertical-align: top\">2.25</td>\n",
       "        <td style=\"padding-left: 1em; padding-right: 1em; text-align: center; vertical-align: top\">2570.0</td>\n",
       "        <td style=\"padding-left: 1em; padding-right: 1em; text-align: center; vertical-align: top\">7242</td>\n",
       "        <td style=\"padding-left: 1em; padding-right: 1em; text-align: center; vertical-align: top\">2</td>\n",
       "        <td style=\"padding-left: 1em; padding-right: 1em; text-align: center; vertical-align: top\">0</td>\n",
       "    </tr>\n",
       "    <tr>\n",
       "        <td style=\"padding-left: 1em; padding-right: 1em; text-align: center; vertical-align: top\">5631500400</td>\n",
       "        <td style=\"padding-left: 1em; padding-right: 1em; text-align: center; vertical-align: top\">2015-02-25 00:00:00+00:00</td>\n",
       "        <td style=\"padding-left: 1em; padding-right: 1em; text-align: center; vertical-align: top\">180000.0</td>\n",
       "        <td style=\"padding-left: 1em; padding-right: 1em; text-align: center; vertical-align: top\">2.0</td>\n",
       "        <td style=\"padding-left: 1em; padding-right: 1em; text-align: center; vertical-align: top\">1.0</td>\n",
       "        <td style=\"padding-left: 1em; padding-right: 1em; text-align: center; vertical-align: top\">770.0</td>\n",
       "        <td style=\"padding-left: 1em; padding-right: 1em; text-align: center; vertical-align: top\">10000</td>\n",
       "        <td style=\"padding-left: 1em; padding-right: 1em; text-align: center; vertical-align: top\">1</td>\n",
       "        <td style=\"padding-left: 1em; padding-right: 1em; text-align: center; vertical-align: top\">0</td>\n",
       "    </tr>\n",
       "    <tr>\n",
       "        <td style=\"padding-left: 1em; padding-right: 1em; text-align: center; vertical-align: top\">2487200875</td>\n",
       "        <td style=\"padding-left: 1em; padding-right: 1em; text-align: center; vertical-align: top\">2014-12-09 00:00:00+00:00</td>\n",
       "        <td style=\"padding-left: 1em; padding-right: 1em; text-align: center; vertical-align: top\">604000.0</td>\n",
       "        <td style=\"padding-left: 1em; padding-right: 1em; text-align: center; vertical-align: top\">4.0</td>\n",
       "        <td style=\"padding-left: 1em; padding-right: 1em; text-align: center; vertical-align: top\">3.0</td>\n",
       "        <td style=\"padding-left: 1em; padding-right: 1em; text-align: center; vertical-align: top\">1960.0</td>\n",
       "        <td style=\"padding-left: 1em; padding-right: 1em; text-align: center; vertical-align: top\">5000</td>\n",
       "        <td style=\"padding-left: 1em; padding-right: 1em; text-align: center; vertical-align: top\">1</td>\n",
       "        <td style=\"padding-left: 1em; padding-right: 1em; text-align: center; vertical-align: top\">0</td>\n",
       "    </tr>\n",
       "    <tr>\n",
       "        <td style=\"padding-left: 1em; padding-right: 1em; text-align: center; vertical-align: top\">1954400510</td>\n",
       "        <td style=\"padding-left: 1em; padding-right: 1em; text-align: center; vertical-align: top\">2015-02-18 00:00:00+00:00</td>\n",
       "        <td style=\"padding-left: 1em; padding-right: 1em; text-align: center; vertical-align: top\">510000.0</td>\n",
       "        <td style=\"padding-left: 1em; padding-right: 1em; text-align: center; vertical-align: top\">3.0</td>\n",
       "        <td style=\"padding-left: 1em; padding-right: 1em; text-align: center; vertical-align: top\">2.0</td>\n",
       "        <td style=\"padding-left: 1em; padding-right: 1em; text-align: center; vertical-align: top\">1680.0</td>\n",
       "        <td style=\"padding-left: 1em; padding-right: 1em; text-align: center; vertical-align: top\">8080</td>\n",
       "        <td style=\"padding-left: 1em; padding-right: 1em; text-align: center; vertical-align: top\">1</td>\n",
       "        <td style=\"padding-left: 1em; padding-right: 1em; text-align: center; vertical-align: top\">0</td>\n",
       "    </tr>\n",
       "    <tr>\n",
       "        <td style=\"padding-left: 1em; padding-right: 1em; text-align: center; vertical-align: top\">7237550310</td>\n",
       "        <td style=\"padding-left: 1em; padding-right: 1em; text-align: center; vertical-align: top\">2014-05-12 00:00:00+00:00</td>\n",
       "        <td style=\"padding-left: 1em; padding-right: 1em; text-align: center; vertical-align: top\">1225000.0</td>\n",
       "        <td style=\"padding-left: 1em; padding-right: 1em; text-align: center; vertical-align: top\">4.0</td>\n",
       "        <td style=\"padding-left: 1em; padding-right: 1em; text-align: center; vertical-align: top\">4.5</td>\n",
       "        <td style=\"padding-left: 1em; padding-right: 1em; text-align: center; vertical-align: top\">5420.0</td>\n",
       "        <td style=\"padding-left: 1em; padding-right: 1em; text-align: center; vertical-align: top\">101930</td>\n",
       "        <td style=\"padding-left: 1em; padding-right: 1em; text-align: center; vertical-align: top\">1</td>\n",
       "        <td style=\"padding-left: 1em; padding-right: 1em; text-align: center; vertical-align: top\">0</td>\n",
       "    </tr>\n",
       "    <tr>\n",
       "        <td style=\"padding-left: 1em; padding-right: 1em; text-align: center; vertical-align: top\">1321400060</td>\n",
       "        <td style=\"padding-left: 1em; padding-right: 1em; text-align: center; vertical-align: top\">2014-06-27 00:00:00+00:00</td>\n",
       "        <td style=\"padding-left: 1em; padding-right: 1em; text-align: center; vertical-align: top\">257500.0</td>\n",
       "        <td style=\"padding-left: 1em; padding-right: 1em; text-align: center; vertical-align: top\">3.0</td>\n",
       "        <td style=\"padding-left: 1em; padding-right: 1em; text-align: center; vertical-align: top\">2.25</td>\n",
       "        <td style=\"padding-left: 1em; padding-right: 1em; text-align: center; vertical-align: top\">1715.0</td>\n",
       "        <td style=\"padding-left: 1em; padding-right: 1em; text-align: center; vertical-align: top\">6819</td>\n",
       "        <td style=\"padding-left: 1em; padding-right: 1em; text-align: center; vertical-align: top\">2</td>\n",
       "        <td style=\"padding-left: 1em; padding-right: 1em; text-align: center; vertical-align: top\">0</td>\n",
       "    </tr>\n",
       "    <tr>\n",
       "        <td style=\"padding-left: 1em; padding-right: 1em; text-align: center; vertical-align: top\">2008000270</td>\n",
       "        <td style=\"padding-left: 1em; padding-right: 1em; text-align: center; vertical-align: top\">2015-01-15 00:00:00+00:00</td>\n",
       "        <td style=\"padding-left: 1em; padding-right: 1em; text-align: center; vertical-align: top\">291850.0</td>\n",
       "        <td style=\"padding-left: 1em; padding-right: 1em; text-align: center; vertical-align: top\">3.0</td>\n",
       "        <td style=\"padding-left: 1em; padding-right: 1em; text-align: center; vertical-align: top\">1.5</td>\n",
       "        <td style=\"padding-left: 1em; padding-right: 1em; text-align: center; vertical-align: top\">1060.0</td>\n",
       "        <td style=\"padding-left: 1em; padding-right: 1em; text-align: center; vertical-align: top\">9711</td>\n",
       "        <td style=\"padding-left: 1em; padding-right: 1em; text-align: center; vertical-align: top\">1</td>\n",
       "        <td style=\"padding-left: 1em; padding-right: 1em; text-align: center; vertical-align: top\">0</td>\n",
       "    </tr>\n",
       "    <tr>\n",
       "        <td style=\"padding-left: 1em; padding-right: 1em; text-align: center; vertical-align: top\">2414600126</td>\n",
       "        <td style=\"padding-left: 1em; padding-right: 1em; text-align: center; vertical-align: top\">2015-04-15 00:00:00+00:00</td>\n",
       "        <td style=\"padding-left: 1em; padding-right: 1em; text-align: center; vertical-align: top\">229500.0</td>\n",
       "        <td style=\"padding-left: 1em; padding-right: 1em; text-align: center; vertical-align: top\">3.0</td>\n",
       "        <td style=\"padding-left: 1em; padding-right: 1em; text-align: center; vertical-align: top\">1.0</td>\n",
       "        <td style=\"padding-left: 1em; padding-right: 1em; text-align: center; vertical-align: top\">1780.0</td>\n",
       "        <td style=\"padding-left: 1em; padding-right: 1em; text-align: center; vertical-align: top\">7470</td>\n",
       "        <td style=\"padding-left: 1em; padding-right: 1em; text-align: center; vertical-align: top\">1</td>\n",
       "        <td style=\"padding-left: 1em; padding-right: 1em; text-align: center; vertical-align: top\">0</td>\n",
       "    </tr>\n",
       "    <tr>\n",
       "        <td style=\"padding-left: 1em; padding-right: 1em; text-align: center; vertical-align: top\">3793500160</td>\n",
       "        <td style=\"padding-left: 1em; padding-right: 1em; text-align: center; vertical-align: top\">2015-03-12 00:00:00+00:00</td>\n",
       "        <td style=\"padding-left: 1em; padding-right: 1em; text-align: center; vertical-align: top\">323000.0</td>\n",
       "        <td style=\"padding-left: 1em; padding-right: 1em; text-align: center; vertical-align: top\">3.0</td>\n",
       "        <td style=\"padding-left: 1em; padding-right: 1em; text-align: center; vertical-align: top\">2.5</td>\n",
       "        <td style=\"padding-left: 1em; padding-right: 1em; text-align: center; vertical-align: top\">1890.0</td>\n",
       "        <td style=\"padding-left: 1em; padding-right: 1em; text-align: center; vertical-align: top\">6560</td>\n",
       "        <td style=\"padding-left: 1em; padding-right: 1em; text-align: center; vertical-align: top\">2</td>\n",
       "        <td style=\"padding-left: 1em; padding-right: 1em; text-align: center; vertical-align: top\">0</td>\n",
       "    </tr>\n",
       "</table>\n",
       "<table frame=\"box\" rules=\"cols\">\n",
       "    <tr>\n",
       "        <th style=\"padding-left: 1em; padding-right: 1em; text-align: center\">view</th>\n",
       "        <th style=\"padding-left: 1em; padding-right: 1em; text-align: center\">condition</th>\n",
       "        <th style=\"padding-left: 1em; padding-right: 1em; text-align: center\">grade</th>\n",
       "        <th style=\"padding-left: 1em; padding-right: 1em; text-align: center\">sqft_above</th>\n",
       "        <th style=\"padding-left: 1em; padding-right: 1em; text-align: center\">sqft_basement</th>\n",
       "        <th style=\"padding-left: 1em; padding-right: 1em; text-align: center\">yr_built</th>\n",
       "        <th style=\"padding-left: 1em; padding-right: 1em; text-align: center\">yr_renovated</th>\n",
       "        <th style=\"padding-left: 1em; padding-right: 1em; text-align: center\">zipcode</th>\n",
       "        <th style=\"padding-left: 1em; padding-right: 1em; text-align: center\">lat</th>\n",
       "    </tr>\n",
       "    <tr>\n",
       "        <td style=\"padding-left: 1em; padding-right: 1em; text-align: center; vertical-align: top\">0</td>\n",
       "        <td style=\"padding-left: 1em; padding-right: 1em; text-align: center; vertical-align: top\">3</td>\n",
       "        <td style=\"padding-left: 1em; padding-right: 1em; text-align: center; vertical-align: top\">7</td>\n",
       "        <td style=\"padding-left: 1em; padding-right: 1em; text-align: center; vertical-align: top\">1180</td>\n",
       "        <td style=\"padding-left: 1em; padding-right: 1em; text-align: center; vertical-align: top\">0</td>\n",
       "        <td style=\"padding-left: 1em; padding-right: 1em; text-align: center; vertical-align: top\">1955</td>\n",
       "        <td style=\"padding-left: 1em; padding-right: 1em; text-align: center; vertical-align: top\">0</td>\n",
       "        <td style=\"padding-left: 1em; padding-right: 1em; text-align: center; vertical-align: top\">98178</td>\n",
       "        <td style=\"padding-left: 1em; padding-right: 1em; text-align: center; vertical-align: top\">47.51123398</td>\n",
       "    </tr>\n",
       "    <tr>\n",
       "        <td style=\"padding-left: 1em; padding-right: 1em; text-align: center; vertical-align: top\">0</td>\n",
       "        <td style=\"padding-left: 1em; padding-right: 1em; text-align: center; vertical-align: top\">3</td>\n",
       "        <td style=\"padding-left: 1em; padding-right: 1em; text-align: center; vertical-align: top\">7</td>\n",
       "        <td style=\"padding-left: 1em; padding-right: 1em; text-align: center; vertical-align: top\">2170</td>\n",
       "        <td style=\"padding-left: 1em; padding-right: 1em; text-align: center; vertical-align: top\">400</td>\n",
       "        <td style=\"padding-left: 1em; padding-right: 1em; text-align: center; vertical-align: top\">1951</td>\n",
       "        <td style=\"padding-left: 1em; padding-right: 1em; text-align: center; vertical-align: top\">1991</td>\n",
       "        <td style=\"padding-left: 1em; padding-right: 1em; text-align: center; vertical-align: top\">98125</td>\n",
       "        <td style=\"padding-left: 1em; padding-right: 1em; text-align: center; vertical-align: top\">47.72102274</td>\n",
       "    </tr>\n",
       "    <tr>\n",
       "        <td style=\"padding-left: 1em; padding-right: 1em; text-align: center; vertical-align: top\">0</td>\n",
       "        <td style=\"padding-left: 1em; padding-right: 1em; text-align: center; vertical-align: top\">3</td>\n",
       "        <td style=\"padding-left: 1em; padding-right: 1em; text-align: center; vertical-align: top\">6</td>\n",
       "        <td style=\"padding-left: 1em; padding-right: 1em; text-align: center; vertical-align: top\">770</td>\n",
       "        <td style=\"padding-left: 1em; padding-right: 1em; text-align: center; vertical-align: top\">0</td>\n",
       "        <td style=\"padding-left: 1em; padding-right: 1em; text-align: center; vertical-align: top\">1933</td>\n",
       "        <td style=\"padding-left: 1em; padding-right: 1em; text-align: center; vertical-align: top\">0</td>\n",
       "        <td style=\"padding-left: 1em; padding-right: 1em; text-align: center; vertical-align: top\">98028</td>\n",
       "        <td style=\"padding-left: 1em; padding-right: 1em; text-align: center; vertical-align: top\">47.73792661</td>\n",
       "    </tr>\n",
       "    <tr>\n",
       "        <td style=\"padding-left: 1em; padding-right: 1em; text-align: center; vertical-align: top\">0</td>\n",
       "        <td style=\"padding-left: 1em; padding-right: 1em; text-align: center; vertical-align: top\">5</td>\n",
       "        <td style=\"padding-left: 1em; padding-right: 1em; text-align: center; vertical-align: top\">7</td>\n",
       "        <td style=\"padding-left: 1em; padding-right: 1em; text-align: center; vertical-align: top\">1050</td>\n",
       "        <td style=\"padding-left: 1em; padding-right: 1em; text-align: center; vertical-align: top\">910</td>\n",
       "        <td style=\"padding-left: 1em; padding-right: 1em; text-align: center; vertical-align: top\">1965</td>\n",
       "        <td style=\"padding-left: 1em; padding-right: 1em; text-align: center; vertical-align: top\">0</td>\n",
       "        <td style=\"padding-left: 1em; padding-right: 1em; text-align: center; vertical-align: top\">98136</td>\n",
       "        <td style=\"padding-left: 1em; padding-right: 1em; text-align: center; vertical-align: top\">47.52082</td>\n",
       "    </tr>\n",
       "    <tr>\n",
       "        <td style=\"padding-left: 1em; padding-right: 1em; text-align: center; vertical-align: top\">0</td>\n",
       "        <td style=\"padding-left: 1em; padding-right: 1em; text-align: center; vertical-align: top\">3</td>\n",
       "        <td style=\"padding-left: 1em; padding-right: 1em; text-align: center; vertical-align: top\">8</td>\n",
       "        <td style=\"padding-left: 1em; padding-right: 1em; text-align: center; vertical-align: top\">1680</td>\n",
       "        <td style=\"padding-left: 1em; padding-right: 1em; text-align: center; vertical-align: top\">0</td>\n",
       "        <td style=\"padding-left: 1em; padding-right: 1em; text-align: center; vertical-align: top\">1987</td>\n",
       "        <td style=\"padding-left: 1em; padding-right: 1em; text-align: center; vertical-align: top\">0</td>\n",
       "        <td style=\"padding-left: 1em; padding-right: 1em; text-align: center; vertical-align: top\">98074</td>\n",
       "        <td style=\"padding-left: 1em; padding-right: 1em; text-align: center; vertical-align: top\">47.61681228</td>\n",
       "    </tr>\n",
       "    <tr>\n",
       "        <td style=\"padding-left: 1em; padding-right: 1em; text-align: center; vertical-align: top\">0</td>\n",
       "        <td style=\"padding-left: 1em; padding-right: 1em; text-align: center; vertical-align: top\">3</td>\n",
       "        <td style=\"padding-left: 1em; padding-right: 1em; text-align: center; vertical-align: top\">11</td>\n",
       "        <td style=\"padding-left: 1em; padding-right: 1em; text-align: center; vertical-align: top\">3890</td>\n",
       "        <td style=\"padding-left: 1em; padding-right: 1em; text-align: center; vertical-align: top\">1530</td>\n",
       "        <td style=\"padding-left: 1em; padding-right: 1em; text-align: center; vertical-align: top\">2001</td>\n",
       "        <td style=\"padding-left: 1em; padding-right: 1em; text-align: center; vertical-align: top\">0</td>\n",
       "        <td style=\"padding-left: 1em; padding-right: 1em; text-align: center; vertical-align: top\">98053</td>\n",
       "        <td style=\"padding-left: 1em; padding-right: 1em; text-align: center; vertical-align: top\">47.65611835</td>\n",
       "    </tr>\n",
       "    <tr>\n",
       "        <td style=\"padding-left: 1em; padding-right: 1em; text-align: center; vertical-align: top\">0</td>\n",
       "        <td style=\"padding-left: 1em; padding-right: 1em; text-align: center; vertical-align: top\">3</td>\n",
       "        <td style=\"padding-left: 1em; padding-right: 1em; text-align: center; vertical-align: top\">7</td>\n",
       "        <td style=\"padding-left: 1em; padding-right: 1em; text-align: center; vertical-align: top\">1715</td>\n",
       "        <td style=\"padding-left: 1em; padding-right: 1em; text-align: center; vertical-align: top\">0</td>\n",
       "        <td style=\"padding-left: 1em; padding-right: 1em; text-align: center; vertical-align: top\">1995</td>\n",
       "        <td style=\"padding-left: 1em; padding-right: 1em; text-align: center; vertical-align: top\">0</td>\n",
       "        <td style=\"padding-left: 1em; padding-right: 1em; text-align: center; vertical-align: top\">98003</td>\n",
       "        <td style=\"padding-left: 1em; padding-right: 1em; text-align: center; vertical-align: top\">47.30972002</td>\n",
       "    </tr>\n",
       "    <tr>\n",
       "        <td style=\"padding-left: 1em; padding-right: 1em; text-align: center; vertical-align: top\">0</td>\n",
       "        <td style=\"padding-left: 1em; padding-right: 1em; text-align: center; vertical-align: top\">3</td>\n",
       "        <td style=\"padding-left: 1em; padding-right: 1em; text-align: center; vertical-align: top\">7</td>\n",
       "        <td style=\"padding-left: 1em; padding-right: 1em; text-align: center; vertical-align: top\">1060</td>\n",
       "        <td style=\"padding-left: 1em; padding-right: 1em; text-align: center; vertical-align: top\">0</td>\n",
       "        <td style=\"padding-left: 1em; padding-right: 1em; text-align: center; vertical-align: top\">1963</td>\n",
       "        <td style=\"padding-left: 1em; padding-right: 1em; text-align: center; vertical-align: top\">0</td>\n",
       "        <td style=\"padding-left: 1em; padding-right: 1em; text-align: center; vertical-align: top\">98198</td>\n",
       "        <td style=\"padding-left: 1em; padding-right: 1em; text-align: center; vertical-align: top\">47.40949984</td>\n",
       "    </tr>\n",
       "    <tr>\n",
       "        <td style=\"padding-left: 1em; padding-right: 1em; text-align: center; vertical-align: top\">0</td>\n",
       "        <td style=\"padding-left: 1em; padding-right: 1em; text-align: center; vertical-align: top\">3</td>\n",
       "        <td style=\"padding-left: 1em; padding-right: 1em; text-align: center; vertical-align: top\">7</td>\n",
       "        <td style=\"padding-left: 1em; padding-right: 1em; text-align: center; vertical-align: top\">1050</td>\n",
       "        <td style=\"padding-left: 1em; padding-right: 1em; text-align: center; vertical-align: top\">730</td>\n",
       "        <td style=\"padding-left: 1em; padding-right: 1em; text-align: center; vertical-align: top\">1960</td>\n",
       "        <td style=\"padding-left: 1em; padding-right: 1em; text-align: center; vertical-align: top\">0</td>\n",
       "        <td style=\"padding-left: 1em; padding-right: 1em; text-align: center; vertical-align: top\">98146</td>\n",
       "        <td style=\"padding-left: 1em; padding-right: 1em; text-align: center; vertical-align: top\">47.51229381</td>\n",
       "    </tr>\n",
       "    <tr>\n",
       "        <td style=\"padding-left: 1em; padding-right: 1em; text-align: center; vertical-align: top\">0</td>\n",
       "        <td style=\"padding-left: 1em; padding-right: 1em; text-align: center; vertical-align: top\">3</td>\n",
       "        <td style=\"padding-left: 1em; padding-right: 1em; text-align: center; vertical-align: top\">7</td>\n",
       "        <td style=\"padding-left: 1em; padding-right: 1em; text-align: center; vertical-align: top\">1890</td>\n",
       "        <td style=\"padding-left: 1em; padding-right: 1em; text-align: center; vertical-align: top\">0</td>\n",
       "        <td style=\"padding-left: 1em; padding-right: 1em; text-align: center; vertical-align: top\">2003</td>\n",
       "        <td style=\"padding-left: 1em; padding-right: 1em; text-align: center; vertical-align: top\">0</td>\n",
       "        <td style=\"padding-left: 1em; padding-right: 1em; text-align: center; vertical-align: top\">98038</td>\n",
       "        <td style=\"padding-left: 1em; padding-right: 1em; text-align: center; vertical-align: top\">47.36840673</td>\n",
       "    </tr>\n",
       "</table>\n",
       "<table frame=\"box\" rules=\"cols\">\n",
       "    <tr>\n",
       "        <th style=\"padding-left: 1em; padding-right: 1em; text-align: center\">long</th>\n",
       "        <th style=\"padding-left: 1em; padding-right: 1em; text-align: center\">sqft_living15</th>\n",
       "        <th style=\"padding-left: 1em; padding-right: 1em; text-align: center\">sqft_lot15</th>\n",
       "    </tr>\n",
       "    <tr>\n",
       "        <td style=\"padding-left: 1em; padding-right: 1em; text-align: center; vertical-align: top\">-122.25677536</td>\n",
       "        <td style=\"padding-left: 1em; padding-right: 1em; text-align: center; vertical-align: top\">1340.0</td>\n",
       "        <td style=\"padding-left: 1em; padding-right: 1em; text-align: center; vertical-align: top\">5650.0</td>\n",
       "    </tr>\n",
       "    <tr>\n",
       "        <td style=\"padding-left: 1em; padding-right: 1em; text-align: center; vertical-align: top\">-122.3188624</td>\n",
       "        <td style=\"padding-left: 1em; padding-right: 1em; text-align: center; vertical-align: top\">1690.0</td>\n",
       "        <td style=\"padding-left: 1em; padding-right: 1em; text-align: center; vertical-align: top\">7639.0</td>\n",
       "    </tr>\n",
       "    <tr>\n",
       "        <td style=\"padding-left: 1em; padding-right: 1em; text-align: center; vertical-align: top\">-122.23319601</td>\n",
       "        <td style=\"padding-left: 1em; padding-right: 1em; text-align: center; vertical-align: top\">2720.0</td>\n",
       "        <td style=\"padding-left: 1em; padding-right: 1em; text-align: center; vertical-align: top\">8062.0</td>\n",
       "    </tr>\n",
       "    <tr>\n",
       "        <td style=\"padding-left: 1em; padding-right: 1em; text-align: center; vertical-align: top\">-122.39318505</td>\n",
       "        <td style=\"padding-left: 1em; padding-right: 1em; text-align: center; vertical-align: top\">1360.0</td>\n",
       "        <td style=\"padding-left: 1em; padding-right: 1em; text-align: center; vertical-align: top\">5000.0</td>\n",
       "    </tr>\n",
       "    <tr>\n",
       "        <td style=\"padding-left: 1em; padding-right: 1em; text-align: center; vertical-align: top\">-122.04490059</td>\n",
       "        <td style=\"padding-left: 1em; padding-right: 1em; text-align: center; vertical-align: top\">1800.0</td>\n",
       "        <td style=\"padding-left: 1em; padding-right: 1em; text-align: center; vertical-align: top\">7503.0</td>\n",
       "    </tr>\n",
       "    <tr>\n",
       "        <td style=\"padding-left: 1em; padding-right: 1em; text-align: center; vertical-align: top\">-122.00528655</td>\n",
       "        <td style=\"padding-left: 1em; padding-right: 1em; text-align: center; vertical-align: top\">4760.0</td>\n",
       "        <td style=\"padding-left: 1em; padding-right: 1em; text-align: center; vertical-align: top\">101930.0</td>\n",
       "    </tr>\n",
       "    <tr>\n",
       "        <td style=\"padding-left: 1em; padding-right: 1em; text-align: center; vertical-align: top\">-122.32704857</td>\n",
       "        <td style=\"padding-left: 1em; padding-right: 1em; text-align: center; vertical-align: top\">2238.0</td>\n",
       "        <td style=\"padding-left: 1em; padding-right: 1em; text-align: center; vertical-align: top\">6819.0</td>\n",
       "    </tr>\n",
       "    <tr>\n",
       "        <td style=\"padding-left: 1em; padding-right: 1em; text-align: center; vertical-align: top\">-122.31457273</td>\n",
       "        <td style=\"padding-left: 1em; padding-right: 1em; text-align: center; vertical-align: top\">1650.0</td>\n",
       "        <td style=\"padding-left: 1em; padding-right: 1em; text-align: center; vertical-align: top\">9711.0</td>\n",
       "    </tr>\n",
       "    <tr>\n",
       "        <td style=\"padding-left: 1em; padding-right: 1em; text-align: center; vertical-align: top\">-122.33659507</td>\n",
       "        <td style=\"padding-left: 1em; padding-right: 1em; text-align: center; vertical-align: top\">1780.0</td>\n",
       "        <td style=\"padding-left: 1em; padding-right: 1em; text-align: center; vertical-align: top\">8113.0</td>\n",
       "    </tr>\n",
       "    <tr>\n",
       "        <td style=\"padding-left: 1em; padding-right: 1em; text-align: center; vertical-align: top\">-122.0308176</td>\n",
       "        <td style=\"padding-left: 1em; padding-right: 1em; text-align: center; vertical-align: top\">2390.0</td>\n",
       "        <td style=\"padding-left: 1em; padding-right: 1em; text-align: center; vertical-align: top\">7570.0</td>\n",
       "    </tr>\n",
       "</table>\n",
       "[10 rows x 21 columns]<br/>\n",
       "</div>"
      ],
      "text/plain": [
       "Columns:\n",
       "\tid\tstr\n",
       "\tdate\tdatetime\n",
       "\tprice\tfloat\n",
       "\tbedrooms\tfloat\n",
       "\tbathrooms\tfloat\n",
       "\tsqft_living\tfloat\n",
       "\tsqft_lot\tint\n",
       "\tfloors\tstr\n",
       "\twaterfront\tint\n",
       "\tview\tint\n",
       "\tcondition\tint\n",
       "\tgrade\tint\n",
       "\tsqft_above\tint\n",
       "\tsqft_basement\tint\n",
       "\tyr_built\tint\n",
       "\tyr_renovated\tint\n",
       "\tzipcode\tstr\n",
       "\tlat\tfloat\n",
       "\tlong\tfloat\n",
       "\tsqft_living15\tfloat\n",
       "\tsqft_lot15\tfloat\n",
       "\n",
       "Rows: 10\n",
       "\n",
       "Data:\n",
       "+------------+---------------------------+-----------+----------+-----------+\n",
       "|     id     |            date           |   price   | bedrooms | bathrooms |\n",
       "+------------+---------------------------+-----------+----------+-----------+\n",
       "| 7129300520 | 2014-10-13 00:00:00+00:00 |  221900.0 |   3.0    |    1.0    |\n",
       "| 6414100192 | 2014-12-09 00:00:00+00:00 |  538000.0 |   3.0    |    2.25   |\n",
       "| 5631500400 | 2015-02-25 00:00:00+00:00 |  180000.0 |   2.0    |    1.0    |\n",
       "| 2487200875 | 2014-12-09 00:00:00+00:00 |  604000.0 |   4.0    |    3.0    |\n",
       "| 1954400510 | 2015-02-18 00:00:00+00:00 |  510000.0 |   3.0    |    2.0    |\n",
       "| 7237550310 | 2014-05-12 00:00:00+00:00 | 1225000.0 |   4.0    |    4.5    |\n",
       "| 1321400060 | 2014-06-27 00:00:00+00:00 |  257500.0 |   3.0    |    2.25   |\n",
       "| 2008000270 | 2015-01-15 00:00:00+00:00 |  291850.0 |   3.0    |    1.5    |\n",
       "| 2414600126 | 2015-04-15 00:00:00+00:00 |  229500.0 |   3.0    |    1.0    |\n",
       "| 3793500160 | 2015-03-12 00:00:00+00:00 |  323000.0 |   3.0    |    2.5    |\n",
       "+------------+---------------------------+-----------+----------+-----------+\n",
       "+-------------+----------+--------+------------+------+-----------+-------+------------+\n",
       "| sqft_living | sqft_lot | floors | waterfront | view | condition | grade | sqft_above |\n",
       "+-------------+----------+--------+------------+------+-----------+-------+------------+\n",
       "|    1180.0   |   5650   |   1    |     0      |  0   |     3     |   7   |    1180    |\n",
       "|    2570.0   |   7242   |   2    |     0      |  0   |     3     |   7   |    2170    |\n",
       "|    770.0    |  10000   |   1    |     0      |  0   |     3     |   6   |    770     |\n",
       "|    1960.0   |   5000   |   1    |     0      |  0   |     5     |   7   |    1050    |\n",
       "|    1680.0   |   8080   |   1    |     0      |  0   |     3     |   8   |    1680    |\n",
       "|    5420.0   |  101930  |   1    |     0      |  0   |     3     |   11  |    3890    |\n",
       "|    1715.0   |   6819   |   2    |     0      |  0   |     3     |   7   |    1715    |\n",
       "|    1060.0   |   9711   |   1    |     0      |  0   |     3     |   7   |    1060    |\n",
       "|    1780.0   |   7470   |   1    |     0      |  0   |     3     |   7   |    1050    |\n",
       "|    1890.0   |   6560   |   2    |     0      |  0   |     3     |   7   |    1890    |\n",
       "+-------------+----------+--------+------------+------+-----------+-------+------------+\n",
       "+---------------+----------+--------------+---------+-------------+\n",
       "| sqft_basement | yr_built | yr_renovated | zipcode |     lat     |\n",
       "+---------------+----------+--------------+---------+-------------+\n",
       "|       0       |   1955   |      0       |  98178  | 47.51123398 |\n",
       "|      400      |   1951   |     1991     |  98125  | 47.72102274 |\n",
       "|       0       |   1933   |      0       |  98028  | 47.73792661 |\n",
       "|      910      |   1965   |      0       |  98136  |   47.52082  |\n",
       "|       0       |   1987   |      0       |  98074  | 47.61681228 |\n",
       "|      1530     |   2001   |      0       |  98053  | 47.65611835 |\n",
       "|       0       |   1995   |      0       |  98003  | 47.30972002 |\n",
       "|       0       |   1963   |      0       |  98198  | 47.40949984 |\n",
       "|      730      |   1960   |      0       |  98146  | 47.51229381 |\n",
       "|       0       |   2003   |      0       |  98038  | 47.36840673 |\n",
       "+---------------+----------+--------------+---------+-------------+\n",
       "+---------------+---------------+-----+\n",
       "|      long     | sqft_living15 | ... |\n",
       "+---------------+---------------+-----+\n",
       "| -122.25677536 |     1340.0    | ... |\n",
       "|  -122.3188624 |     1690.0    | ... |\n",
       "| -122.23319601 |     2720.0    | ... |\n",
       "| -122.39318505 |     1360.0    | ... |\n",
       "| -122.04490059 |     1800.0    | ... |\n",
       "| -122.00528655 |     4760.0    | ... |\n",
       "| -122.32704857 |     2238.0    | ... |\n",
       "| -122.31457273 |     1650.0    | ... |\n",
       "| -122.33659507 |     1780.0    | ... |\n",
       "|  -122.0308176 |     2390.0    | ... |\n",
       "+---------------+---------------+-----+\n",
       "[10 rows x 21 columns]"
      ]
     },
     "execution_count": 4,
     "metadata": {},
     "output_type": "execute_result"
    }
   ],
   "source": [
    "sales = graphlab.SFrame('kc_house_data.gl/')\n",
    "sales.head()"
   ]
  },
  {
   "cell_type": "markdown",
   "metadata": {},
   "source": [
    "# Split data into training and testing"
   ]
  },
  {
   "cell_type": "markdown",
   "metadata": {},
   "source": [
    "We use seed=0 so that everyone running this notebook gets the same results.  In practice, you may set a random seed (or let GraphLab Create pick a random seed for you).  "
   ]
  },
  {
   "cell_type": "code",
   "execution_count": 3,
   "metadata": {},
   "outputs": [],
   "source": [
    "train_data,test_data = sales.random_split(.8,seed=0)"
   ]
  },
  {
   "cell_type": "markdown",
   "metadata": {},
   "source": [
    "# Useful SFrame summary functions"
   ]
  },
  {
   "cell_type": "markdown",
   "metadata": {},
   "source": [
    "In order to make use of the closed form solution as well as take advantage of graphlab's built in functions we will review some important ones. In particular:\n",
    "* Computing the sum of an SArray\n",
    "* Computing the arithmetic average (mean) of an SArray\n",
    "* multiplying SArrays by constants\n",
    "* multiplying SArrays by other SArrays"
   ]
  },
  {
   "cell_type": "code",
   "execution_count": 10,
   "metadata": {},
   "outputs": [
    {
     "name": "stdout",
     "output_type": "stream",
     "text": [
      "average price via method 1: 540088.141905\n",
      "average price via method 2: 540088.141905\n"
     ]
    }
   ],
   "source": [
    "# Let's compute the mean of the House Prices in King County in 2 different ways.\n",
    "prices = sales['price'] # extract the price column of the sales SFrame -- this is now an SArray\n",
    "\n",
    "# recall that the arithmetic average (the mean) is the sum of the prices divided by the total number of houses:\n",
    "sum_prices = prices.sum()\n",
    "num_houses = prices.size() # when prices is an SArray .size() returns its length\n",
    "avg_price_1 = sum_prices/num_houses\n",
    "avg_price_2 = prices.mean() # if you just want the average, the .mean() function\n",
    "print \"average price via method 1: \" + str(avg_price_1)\n",
    "print \"average price via method 2: \" + str(avg_price_2)\n"
   ]
  },
  {
   "cell_type": "markdown",
   "metadata": {},
   "source": [
    "As we see we get the same answer both ways"
   ]
  },
  {
   "cell_type": "code",
   "execution_count": null,
   "metadata": {},
   "outputs": [],
   "source": [
    "# if we want to multiply every price by 0.5 it's a simple as:\n",
    "half_prices = 0.5*prices\n",
    "# Let's compute the sum of squares of price. We can multiply two SArrays of the same length elementwise also with *\n",
    "prices_squared = prices*prices\n",
    "sum_prices_squared = prices_squared.sum() # price_squared is an SArray of the squares and we want to add them up.\n",
    "print \"the sum of price squared is: \" + str(sum_prices_squared)"
   ]
  },
  {
   "cell_type": "markdown",
   "metadata": {},
   "source": [
    "Aside: The python notation x.xxe+yy means x.xx \\* 10^(yy). e.g 100 = 10^2 = 1*10^2 = 1e2 "
   ]
  },
  {
   "cell_type": "markdown",
   "metadata": {},
   "source": [
    "# Build a generic simple linear regression function "
   ]
  },
  {
   "cell_type": "markdown",
   "metadata": {},
   "source": [
    "Armed with these SArray functions we can use the closed form solution found from lecture to compute the slope and intercept for a simple linear regression on observations stored as SArrays: input_feature, output.\n",
    "\n",
    "Complete the following function (or write your own) to compute the simple linear regression slope and intercept:"
   ]
  },
  {
   "cell_type": "code",
   "execution_count": 21,
   "metadata": {},
   "outputs": [],
   "source": [
    "def simple_linear_regression(input_feature, output):\n",
    "    # compute the sum of input_feature and output\n",
    "    x_sum=input_feature.sum()\n",
    "    y_sum=output.sum()\n",
    "    # compute the product of the output and the input_feature and its sum\n",
    "    xy_prod=input_feature*output\n",
    "    xy_prod_sum=xy_prod.sum()\n",
    "    # compute the squared value of the input_feature and its sum\n",
    "    x2=input_feature*input_feature\n",
    "    x2_sum=x2.sum()\n",
    "    # use the formula for the slope\n",
    "    N=float(output.size())\n",
    "    \n",
    "    slope=xy_prod_sum - x_sum*y_sum/N\n",
    "    slope=slope/(x2_sum-x_sum*x_sum/N)\n",
    "    # use the formula for the intercept\n",
    "    intercept=y_sum-slope*x_sum\n",
    "    intercept=intercept/N\n",
    "    \n",
    "    return (intercept, slope)"
   ]
  },
  {
   "cell_type": "markdown",
   "metadata": {},
   "source": [
    "We can test that our function works by passing it something where we know the answer. In particular we can generate a feature and then put the output exactly on a line: output = 1 + 1\\*input_feature then we know both our slope and intercept should be 1"
   ]
  },
  {
   "cell_type": "code",
   "execution_count": 22,
   "metadata": {
    "scrolled": true
   },
   "outputs": [
    {
     "name": "stdout",
     "output_type": "stream",
     "text": [
      "Intercept: 1.0\n",
      "Slope: 1.0\n"
     ]
    }
   ],
   "source": [
    "test_feature = graphlab.SArray(range(5))\n",
    "test_output = graphlab.SArray(1 + 1*test_feature)\n",
    "\n",
    "(test_intercept, test_slope) =  simple_linear_regression(test_feature, test_output)\n",
    "print \"Intercept: \" + str(test_intercept)\n",
    "print \"Slope: \" + str(test_slope)"
   ]
  },
  {
   "cell_type": "markdown",
   "metadata": {},
   "source": [
    "Now that we know it works let's build a regression model for predicting price based on sqft_living. Rembember that we train on train_data!"
   ]
  },
  {
   "cell_type": "code",
   "execution_count": 24,
   "metadata": {},
   "outputs": [
    {
     "name": "stdout",
     "output_type": "stream",
     "text": [
      "Intercept: -47116.0765749\n",
      "Slope: 281.958838568\n"
     ]
    }
   ],
   "source": [
    "sqft_intercept, sqft_slope = simple_linear_regression(train_data['sqft_living'], train_data['price'])\n",
    "\n",
    "print \"Intercept: \" + str(sqft_intercept)\n",
    "print \"Slope: \" + str(sqft_slope)"
   ]
  },
  {
   "cell_type": "markdown",
   "metadata": {},
   "source": [
    "# Predicting Values"
   ]
  },
  {
   "cell_type": "markdown",
   "metadata": {},
   "source": [
    "Now that we have the model parameters: intercept & slope we can make predictions. Using SArrays it's easy to multiply an SArray by a constant and add a constant value. Complete the following function to return the predicted output given the input_feature, slope and intercept:"
   ]
  },
  {
   "cell_type": "code",
   "execution_count": 26,
   "metadata": {},
   "outputs": [],
   "source": [
    "def get_regression_predictions(input_feature, intercept, slope):\n",
    "    # calculate the predicted values:\n",
    "    predicted_values = intercept + input_feature*slope \n",
    "    return predicted_values"
   ]
  },
  {
   "cell_type": "markdown",
   "metadata": {},
   "source": [
    "Now that we can calculate a prediction given the slope and intercept let's make a prediction. Use (or alter) the following to find out the estimated price for a house with 2650 squarefeet according to the squarefeet model we estiamted above.\n",
    "\n",
    "**Quiz Question: Using your Slope and Intercept from (4), What is the predicted price for a house with 2650 sqft?**"
   ]
  },
  {
   "cell_type": "code",
   "execution_count": 33,
   "metadata": {
    "scrolled": true
   },
   "outputs": [
    {
     "name": "stdout",
     "output_type": "stream",
     "text": [
      "The estimated price for a house with 2650 squarefeet is $700074.85\n"
     ]
    }
   ],
   "source": [
    "my_house_sqft = 2650\n",
    "estimated_price = get_regression_predictions(my_house_sqft,sqft_intercept, sqft_slope)\n",
    "print \"The estimated price for a house with %d squarefeet is $%.2f\" % (my_house_sqft, estimated_price)"
   ]
  },
  {
   "cell_type": "markdown",
   "metadata": {},
   "source": [
    "# Residual Sum of Squares"
   ]
  },
  {
   "cell_type": "markdown",
   "metadata": {},
   "source": [
    "Now that we have a model and can make predictions let's evaluate our model using Residual Sum of Squares (RSS). Recall that RSS is the sum of the squares of the residuals and the residuals is just a fancy word for the difference between the predicted output and the true output. \n",
    "\n",
    "Complete the following (or write your own) function to compute the RSS of a simple linear regression model given the input_feature, output, intercept and slope:"
   ]
  },
  {
   "cell_type": "code",
   "execution_count": 44,
   "metadata": {},
   "outputs": [],
   "source": [
    "def get_residual_sum_of_squares(input_feature, output, intercept, slope):\n",
    "    # First get the predictions\n",
    "    estimated_price = get_regression_predictions(input_feature, intercept, slope)\n",
    "    # then compute the residuals (since we are squaring it doesn't matter which order you subtract)\n",
    "    residual=(estimated_price-output)**2\n",
    "    \n",
    "    # square the residuals and add them up\n",
    "    RSS=residual.sum()\n",
    "    return(RSS)"
   ]
  },
  {
   "cell_type": "markdown",
   "metadata": {},
   "source": [
    "Let's test our get_residual_sum_of_squares function by applying it to the test model where the data lie exactly on a line. Since they lie exactly on a line the residual sum of squares should be zero!"
   ]
  },
  {
   "cell_type": "code",
   "execution_count": 45,
   "metadata": {},
   "outputs": [
    {
     "name": "stdout",
     "output_type": "stream",
     "text": [
      "0.0\n"
     ]
    }
   ],
   "source": [
    "print get_residual_sum_of_squares(test_feature, test_output, test_intercept, test_slope) # should be 0.0"
   ]
  },
  {
   "cell_type": "markdown",
   "metadata": {},
   "source": [
    "Now use your function to calculate the RSS on training data from the squarefeet model calculated above.\n",
    "\n",
    "**Quiz Question: According to this function and the slope and intercept from the squarefeet model What is the RSS for the simple linear regression using squarefeet to predict prices on TRAINING data?**"
   ]
  },
  {
   "cell_type": "code",
   "execution_count": 47,
   "metadata": {},
   "outputs": [
    {
     "name": "stdout",
     "output_type": "stream",
     "text": [
      "The RSS of predicting Prices based on Square Feet is : 1.20191835632e+15\n"
     ]
    }
   ],
   "source": [
    "rss_prices_on_sqft = get_residual_sum_of_squares(train_data['sqft_living'], train_data['price'], sqft_intercept, sqft_slope)\n",
    "print 'The RSS of predicting Prices based on Square Feet is : ' + str(rss_prices_on_sqft)"
   ]
  },
  {
   "cell_type": "markdown",
   "metadata": {},
   "source": [
    "# Predict the squarefeet given price"
   ]
  },
  {
   "cell_type": "markdown",
   "metadata": {},
   "source": [
    "What if we want to predict the squarefoot given the price? Since we have an equation y = a + b\\*x we can solve the function for x. So that if we have the intercept (a) and the slope (b) and the price (y) we can solve for the estimated squarefeet (x).\n",
    "\n",
    "Complete the following function to compute the inverse regression estimate, i.e. predict the input_feature given the output."
   ]
  },
  {
   "cell_type": "code",
   "execution_count": 49,
   "metadata": {},
   "outputs": [],
   "source": [
    "def inverse_regression_predictions(output, intercept, slope):\n",
    "    # solve output = intercept + slope*input_feature for input_feature. Use this equation to compute the inverse predictions:\n",
    "    estimated_feature = output-intercept\n",
    "    estimated_feature = estimated_feature/slope\n",
    "    return estimated_feature"
   ]
  },
  {
   "cell_type": "markdown",
   "metadata": {},
   "source": [
    "Now that we have a function to compute the squarefeet given the price from our simple regression model let's see how big we might expect a house that costs $800,000 to be.\n",
    "\n",
    "**Quiz Question: According to this function and the regression slope and intercept from (3) what is the estimated square-feet for a house costing $800,000?**"
   ]
  },
  {
   "cell_type": "code",
   "execution_count": 50,
   "metadata": {},
   "outputs": [
    {
     "name": "stdout",
     "output_type": "stream",
     "text": [
      "The estimated squarefeet for a house worth $800000.00 is 3004\n"
     ]
    }
   ],
   "source": [
    "my_house_price = 800000\n",
    "estimated_squarefeet = inverse_regression_predictions(my_house_price, sqft_intercept, sqft_slope)\n",
    "print \"The estimated squarefeet for a house worth $%.2f is %d\" % (my_house_price, estimated_squarefeet)"
   ]
  },
  {
   "cell_type": "code",
   "execution_count": 51,
   "metadata": {},
   "outputs": [
    {
     "name": "stdout",
     "output_type": "stream",
     "text": [
      "The estimated price for a house with 3004 squarefeet is $799888.27\n"
     ]
    }
   ],
   "source": [
    "my_house_sqft = 3004\n",
    "estimated_price = get_regression_predictions(my_house_sqft,sqft_intercept, sqft_slope)\n",
    "print \"The estimated price for a house with %d squarefeet is $%.2f\" % (my_house_sqft, estimated_price)"
   ]
  },
  {
   "cell_type": "markdown",
   "metadata": {},
   "source": [
    "# New Model: estimate prices from bedrooms"
   ]
  },
  {
   "cell_type": "markdown",
   "metadata": {},
   "source": [
    "We have made one model for predicting house prices using squarefeet, but there are many other features in the sales SFrame. \n",
    "Use your simple linear regression function to estimate the regression parameters from predicting Prices based on number of bedrooms. Use the training data!"
   ]
  },
  {
   "cell_type": "code",
   "execution_count": 53,
   "metadata": {},
   "outputs": [
    {
     "name": "stdout",
     "output_type": "stream",
     "text": [
      "Intercept: -47116.0765749\n",
      "Slope: 281.958838568\n"
     ]
    }
   ],
   "source": [
    "# Estimate the slope and intercept for predicting 'price' based on 'bedrooms'\n",
    "bdrm_intercept, bdrm_slope = simple_linear_regression(train_data['bedrooms'], train_data['price'])\n",
    "print \"Intercept: \" + str(sqft_intercept)\n",
    "print \"Slope: \" + str(sqft_slope)\n"
   ]
  },
  {
   "cell_type": "markdown",
   "metadata": {},
   "source": [
    "# Test your Linear Regression Algorithm"
   ]
  },
  {
   "cell_type": "markdown",
   "metadata": {},
   "source": [
    "Now we have two models for predicting the price of a house. How do we know which one is better? Calculate the RSS on the TEST data (remember this data wasn't involved in learning the model). Compute the RSS from predicting prices using bedrooms and from predicting prices using squarefeet.\n",
    "\n",
    "**Quiz Question: Which model (square feet or bedrooms) has lowest RSS on TEST data? Think about why this might be the case.**"
   ]
  },
  {
   "cell_type": "code",
   "execution_count": 61,
   "metadata": {},
   "outputs": [
    {
     "name": "stdout",
     "output_type": "stream",
     "text": [
      "The RSS of predicting Prices based on Bedrooms is : 4.93364582868e+14\n"
     ]
    }
   ],
   "source": [
    "# Compute RSS when using bedrooms on TEST data:\n",
    "rss_prices_on_bdrm = get_residual_sum_of_squares(test_data['bedrooms'], test_data['price'], bdrm_intercept, bdrm_slope)\n",
    "print 'The RSS of predicting Prices based on Bedrooms is : ' + str(rss_prices_on_bdrm)"
   ]
  },
  {
   "cell_type": "code",
   "execution_count": 57,
   "metadata": {},
   "outputs": [
    {
     "name": "stdout",
     "output_type": "stream",
     "text": [
      "The RSS of predicting Prices based on Bedrooms is : 2.75402936247e+14\n"
     ]
    }
   ],
   "source": [
    "# Compute RSS when using squarefeet on TEST data:\n",
    "rss_prices_on_sqft = get_residual_sum_of_squares(test_data['sqft_living'], test_data['price'], sqft_intercept, sqft_slope)\n",
    "print 'The RSS of predicting Prices based on Bedrooms is : ' + str(rss_prices_on_sqft)"
   ]
  },
  {
   "cell_type": "code",
   "execution_count": 60,
   "metadata": {},
   "outputs": [
    {
     "data": {
      "application/javascript": [
       "$(\"head\").append($(\"<link/>\").attr({\n",
       "  rel:  \"stylesheet\",\n",
       "  type: \"text/css\",\n",
       "  href: \"//cdnjs.cloudflare.com/ajax/libs/font-awesome/4.1.0/css/font-awesome.min.css\"\n",
       "}));\n",
       "$(\"head\").append($(\"<link/>\").attr({\n",
       "  rel:  \"stylesheet\",\n",
       "  type: \"text/css\",\n",
       "  href: \"https://static.turi.com/products/graphlab-create/2.1/canvas/css/canvas.css\"\n",
       "}));\n",
       "\n",
       "            (function(){\n",
       "\n",
       "                var e = null;\n",
       "                if (typeof element == 'undefined') {\n",
       "                    var scripts = document.getElementsByTagName('script');\n",
       "                    var thisScriptTag = scripts[scripts.length-1];\n",
       "                    var parentDiv = thisScriptTag.parentNode;\n",
       "                    e = document.createElement('div');\n",
       "                    parentDiv.appendChild(e);\n",
       "                } else {\n",
       "                    e = element[0];\n",
       "                }\n",
       "\n",
       "                if (typeof requirejs !== 'undefined') {\n",
       "                    // disable load timeout; ipython_app.js is large and can take a while to load.\n",
       "                    requirejs.config({waitSeconds: 0});\n",
       "                }\n",
       "\n",
       "                require(['https://static.turi.com/products/graphlab-create/2.1/canvas/js/ipython_app.js'], function(IPythonApp){\n",
       "                    var app = new IPythonApp();\n",
       "                    app.attachView('sframe','Plots', {\"selected_variable\": {\"name\": [\"sales\"], \"descriptives\": {\"rows\": 21613, \"columns\": 21}, \"view_component\": \"Plots\", \"view_file\": \"sframe\", \"view_params\": {\"y\": \"price\", \"x\": \"sqft_living\", \"columns\": [\"id\", \"date\", \"price\", \"bedrooms\", \"bathrooms\", \"sqft_living\", \"sqft_lot\", \"floors\", \"waterfront\", \"view\", \"condition\", \"grade\", \"sqft_above\", \"sqft_basement\", \"yr_built\", \"yr_renovated\", \"zipcode\", \"lat\", \"long\", \"sqft_living15\", \"sqft_lot15\"], \"view\": \"Scatter Plot\"}, \"view_components\": [\"Summary\", \"Table\", \"Bar Chart\", \"BoxWhisker Plot\", \"Line Chart\", \"Scatter Plot\", \"Heat Map\", \"Plots\"], \"type\": \"SFrame\", \"columns\": [{\"dtype\": \"str\", \"name\": \"id\"}, {\"dtype\": \"datetime\", \"name\": \"date\"}, {\"dtype\": \"float\", \"name\": \"price\"}, {\"dtype\": \"float\", \"name\": \"bedrooms\"}, {\"dtype\": \"float\", \"name\": \"bathrooms\"}, {\"dtype\": \"float\", \"name\": \"sqft_living\"}, {\"dtype\": \"int\", \"name\": \"sqft_lot\"}, {\"dtype\": \"str\", \"name\": \"floors\"}, {\"dtype\": \"int\", \"name\": \"waterfront\"}, {\"dtype\": \"int\", \"name\": \"view\"}, {\"dtype\": \"int\", \"name\": \"condition\"}, {\"dtype\": \"int\", \"name\": \"grade\"}, {\"dtype\": \"int\", \"name\": \"sqft_above\"}, {\"dtype\": \"int\", \"name\": \"sqft_basement\"}, {\"dtype\": \"int\", \"name\": \"yr_built\"}, {\"dtype\": \"int\", \"name\": \"yr_renovated\"}, {\"dtype\": \"str\", \"name\": \"zipcode\"}, {\"dtype\": \"float\", \"name\": \"lat\"}, {\"dtype\": \"float\", \"name\": \"long\"}, {\"dtype\": \"float\", \"name\": \"sqft_living15\"}, {\"dtype\": \"float\", \"name\": \"sqft_lot15\"}], \"column_identifiers\": [\"bathrooms\", \"sqft_living15\", \"sqft_above\", \"grade\", \"yr_built\", \"price\", \"bedrooms\", \"zipcode\", \"long\", \"id\", \"sqft_lot15\", \"sqft_living\", \"floors\", \"sqft_lot\", \"date\", \"waterfront\", \"sqft_basement\", \"yr_renovated\", \"lat\", \"condition\", \"view\"]}, \"complete\": 1, \"ipython\": true, \"progress\": 1.0, \"data\": [[1180.0, 221900.0], [2760.0, 369950.0], [2150.0, 626000.0], [2310.0, 588000.0], [1600.0, 400000.0], [2140.0, 339950.0], [1700.0, 454000.0], [1960.0, 308000.0], [1460.0, 470000.0], [1230.0, 387000.0], [3420.0, 692500.0], [3380.0, 435000.0], [1280.0, 232000.0], [1700.0, 319950.0], [910.0, 305000.0], [1580.0, 410000.0], [720.0, 199900.0], [4500.0, 785000.0], [1010.0, 350000.0], [5770.0, 1680000.0], [2230.0, 333700.0], [2700.0, 515000.0], [2090.0, 405000.0], [1290.0, 350500.0], [2660.0, 287000.0], [1650.0, 485000.0], [1760.0, 647500.0], [1400.0, 667000.0], [2000.0, 677000.0], [2040.0, 319900.0], [4390.0, 1510000.0], [1910.0, 515000.0], [2330.0, 630000.0], [4150.0, 635000.0], [2610.0, 725000.0], [1260.0, 210000.0], [2140.0, 360000.0], [1240.0, 275000.0], [1460.0, 499000.0], [2380.0, 495000.0], [2770.0, 470000.0], [1610.0, 249900.0], [960.0, 237000.0], [1600.0, 267500.0], [1550.0, 369000.0], [2320.0, 630000.0], [2540.0, 775000.0], [2790.0, 700000.0], [1650.0, 517000.0], [1880.0, 530200.0], [3140.0, 401500.0], [1980.0, 415000.0], [4440.0, 1730000.0], [1352.0, 325000.0], [1710.0, 287000.0], [1340.0, 252000.0], [6670.0, 2998000.0], [2910.0, 788000.0], [1260.0, 405000.0], [1520.0, 226000.0], [2420.0, 455600.0], [1660.0, 392500.0], [1010.0, 269000.0], [2310.0, 646000.0], [3100.0, 735000.0], [1240.0, 543000.0], [3070.0, 550000.0], [1750.0, 660000.0], [3130.0, 745000.0], [1060.0, 335000.0], [3140.0, 570000.0], [2190.0, 699900.0], [2300.0, 342000.0], [1090.0, 149900.0], [1560.0, 640000.0], [1840.0, 275000.0], [2140.0, 680000.0], [2550.0, 430000.0], [2780.0, 690000.0], [1320.0, 232500.0], [2510.0, 267000.0], [1430.0, 440000.0], [1480.0, 436000.0], [1070.0, 200000.0], [2620.0, 597500.0], [1620.0, 350000.0], [1940.0, 700000.0], [2030.0, 618080.0], [1180.0, 372500.0], [3220.0, 760000.0], [1160.0, 422000.0], [1840.0, 285000.0], [1690.0, 535000.0], [1960.0, 340000.0], [2860.0, 1010000.0], [4470.0, 1537000.0], [1690.0, 442500.0], [2798.0, 499950.0], [1740.0, 455000.0], [2700.0, 850000.0], [5450.0, 3418800.0], [1990.0, 619000.0], [2110.0, 435000.0], [3760.0, 1375000.0], [1210.0, 290000.0], [3420.0, 975000.0], [3830.0, 1050000.0], [1190.0, 475000.0], [3240.0, 1285000.0], [2570.0, 1100000.0], [2810.0, 855000.0], [560.0, 106000.0], [1370.0, 409950.0], [1340.0, 324950.0], [2170.0, 539000.0], [3790.0, 1600000.0], [2000.0, 500000.0], [2420.0, 1490000.0], [900.0, 178500.0], [1700.0, 950000.0], [2560.0, 700500.0], [1650.0, 268000.0], [1480.0, 397500.0], [1700.0, 290000.0], [970.0, 425000.0], [1770.0, 487000.0], [1130.0, 415000.0], [2140.0, 280000.0], [2160.0, 480000.0], [1470.0, 245000.0], [4410.0, 1240000.0], [2110.0, 288250.0], [2780.0, 830000.0], [1000.0, 303000.0], [1370.0, 815000.0], [710.0, 257500.0], [1540.0, 279000.0], [1340.0, 290000.0], [1580.0, 296500.0], [3610.0, 982000.0], [2670.0, 798800.0], [1010.0, 400000.0], [2010.0, 434000.0], [4030.0, 950000.0], [1470.0, 399950.0], [1400.0, 246000.0], [2550.0, 890000.0], [1020.0, 225000.0], [2960.0, 500000.0], [1630.0, 509000.0], [2020.0, 475000.0], [2540.0, 675000.0], [1250.0, 282950.0], [1730.0, 292000.0], [1800.0, 383000.0], [5700.0, 1385000.0], [1430.0, 462600.0], [1820.0, 299000.0], [3400.0, 530000.0], [2830.0, 628000.0], [1520.0, 210000.0], [1280.0, 395000.0], [1020.0, 208000.0], [1530.0, 231000.0], [3680.0, 1225000.0], [1560.0, 900000.0], [2280.0, 750000.0], [2150.0, 399950.0], [1300.0, 390000.0], [2330.0, 732000.0], [2840.0, 870000.0], [1950.0, 315000.0], [1730.0, 460000.0], [1360.0, 370000.0], [2846.0, 482000.0], [2810.0, 368500.0], [1920.0, 279000.0], [1048.0, 199950.0], [1769.0, 495000.0], [1940.0, 661000.0], [1095.0, 302282.0], [1190.0, 587100.0], [2320.0, 779000.0], [1940.0, 380000.0], [1970.0, 454000.0], [1700.0, 340000.0], [1410.0, 658500.0], [1720.0, 280000.0], [1260.0, 455000.0], [790.0, 212000.0], [1650.0, 305000.0], [1790.0, 414000.0], [1120.0, 166000.0], [790.0, 248000.0], [2200.0, 522500.0], [3504.0, 330000.0], [2210.0, 620000.0], [3170.0, 1600000.0], [3090.0, 595000.0], [5940.0, 1149000.0], [5850.0, 1700000.0], [1230.0, 240000.0], [1600.0, 355000.0], [2250.0, 559000.0], [2340.0, 330000.0], [2250.0, 499000.0], [1780.0, 336000.0], [1920.0, 372500.0], [3520.0, 859990.0], [1290.0, 232000.0], [2260.0, 778000.0], [3160.0, 693000.0], [2230.0, 692500.0], [2840.0, 372000.0], [1680.0, 394000.0], [910.0, 169000.0], [1230.0, 636000.0], [2260.0, 367000.0], [1320.0, 210000.0], [2940.0, 837000.0], [2490.0, 532500.0], [2530.0, 435000.0], [1380.0, 473000.0], [2220.0, 325000.0], [1920.0, 303500.0], [1250.0, 390000.0], [1510.0, 479950.0], [1260.0, 550000.0], [1160.0, 508300.0], [1670.0, 785000.0], [1290.0, 240000.0], [5530.0, 1350000.0], [1212.0, 340000.0], [1950.0, 440000.0], [2790.0, 533112.0], [4280.0, 1600000.0], [1350.0, 400000.0], [1690.0, 420000.0], [1700.0, 559000.0], [2301.0, 375500.0], [1840.0, 540000.0], [1650.0, 643500.0], [1740.0, 300000.0], [1460.0, 329932.0], [1130.0, 262500.0], [720.0, 405000.0], [2650.0, 565000.0], [1060.0, 826000.0], [1890.0, 450000.0], [1170.0, 325000.0], [1130.0, 400000.0], [2960.0, 800000.0], [1800.0, 450000.0], [1060.0, 275053.0], [2040.0, 264900.0], [3330.0, 950000.0], [1850.0, 257200.0], [1250.0, 250000.0], [1200.0, 185000.0], [2120.0, 329500.0], [2280.0, 534000.0], [2030.0, 595000.0], [2650.0, 410000.0], [2410.0, 560000.0], [2240.0, 395000.0], [3530.0, 1610000.0], [750.0, 213000.0], [2340.0, 572000.0], [1800.0, 365000.0], [3870.0, 1440000.0], [1510.0, 279950.0], [1530.0, 245000.0], [2330.0, 516000.0], [930.0, 420000.0], [1890.0, 398000.0], [1270.0, 365000.0], [3000.0, 500000.0], [2020.0, 317000.0], [1940.0, 495000.0], [790.0, 118125.0], [2550.0, 660000.0], [2940.0, 590000.0], [1740.0, 255000.0], [1280.0, 579000.0], [1320.0, 159000.0], [1440.0, 432250.0], [1380.0, 650000.0], [1670.0, 405000.0], [1040.0, 184900.0], [860.0, 370000.0], [2520.0, 525300.0], [530.0, 400000.0], [2990.0, 760000.0], [1010.0, 183500.0], [2630.0, 731688.0], [2640.0, 530000.0], [2060.0, 815000.0], [2350.0, 400000.0], [1990.0, 318200.0], [1790.0, 385000.0], [1130.0, 443000.0], [2890.0, 416000.0], [2180.0, 470000.0], [1950.0, 622000.0], [1660.0, 491000.0], [2950.0, 1865000.0], [4610.0, 1245000.0], [2950.0, 600000.0], [1830.0, 286651.0], [1400.0, 217000.0], [1270.0, 403000.0], [1570.0, 335000.0], [2170.0, 638000.0], [1840.0, 585000.0], [3362.0, 410500.0], [2420.0, 950000.0], [1150.0, 335000.0], [1170.0, 315000.0], [1590.0, 255000.0], [3830.0, 955990.0], [2520.0, 449888.0], [2441.0, 340000.0], [1720.0, 608000.0], [2400.0, 387500.0], [2120.0, 470000.0], [4133.0, 979500.0], [1220.0, 875000.0], [2330.0, 580000.0], [2910.0, 870000.0], [3260.0, 681500.0], [1210.0, 160000.0], [1340.0, 287000.0], [1280.0, 240000.0], [2120.0, 368000.0], [1790.0, 650000.0], [1640.0, 645000.0], [1380.0, 426000.0], [2750.0, 795000.0], [2430.0, 412950.0], [1630.0, 445000.0], [980.0, 329900.0], [2090.0, 289950.0], [3510.0, 1255000.0], [2170.0, 400000.0], [1710.0, 579000.0], [1260.0, 282000.0], [710.0, 362362.0], [900.0, 325000.0], [1610.0, 320000.0], [1220.0, 447000.0], [1765.0, 250000.0], [1180.0, 450000.0], [2970.0, 866800.0], [1820.0, 650000.0], [2310.0, 470000.0], [2190.0, 349000.0], [3960.0, 1195000.0], [2100.0, 346000.0], [2090.0, 200000.0], [2010.0, 410000.0], [1740.0, 429950.0], [2090.0, 659000.0], [820.0, 363000.0], [2110.0, 604950.0], [1190.0, 329000.0], [2660.0, 896000.0], [1413.0, 286800.0], [2290.0, 390000.0], [1660.0, 360000.0], [1990.0, 445000.0], [2300.0, 350000.0], [1480.0, 483945.0], [2590.0, 533000.0], [1370.0, 305000.0], [2070.0, 535100.0], [2910.0, 945000.0], [3030.0, 790000.0], [1640.0, 308000.0], [3920.0, 1165000.0], [1010.0, 345000.0], [1380.0, 270000.0], [1313.0, 885000.0], [1020.0, 303000.0], [2980.0, 480000.0], [750.0, 422000.0], [2200.0, 315000.0], [1240.0, 900000.0], [5180.0, 1075000.0], [1650.0, 246000.0], [2190.0, 563500.0], [1340.0, 399000.0], [1170.0, 459500.0], [1494.0, 650000.0], [1740.0, 496700.0], [1750.0, 477000.0], [4120.0, 1360000.0], [3070.0, 1195000.0], [3160.0, 685000.0], [1840.0, 552000.0], [1430.0, 552500.0], [3305.0, 492000.0], [1590.0, 259000.0], [2440.0, 312000.0], [2259.0, 262500.0], [1370.0, 385000.0], [1990.0, 569000.0], [1470.0, 445000.0], [670.0, 340000.0], [1990.0, 256750.0], [3210.0, 750000.0], [1680.0, 380000.0], [1170.0, 457000.0], [1530.0, 425000.0], [1340.0, 330000.0], [2060.0, 292000.0], [2040.0, 580000.0], [2180.0, 485000.0], [2450.0, 399950.0], [2550.0, 353000.0], [1840.0, 513000.0], [1460.0, 390500.0], [1330.0, 320000.0], [1560.0, 236000.0], [2110.0, 610000.0], [1670.0, 425000.0], [1580.0, 247800.0], [2240.0, 590000.0], [2490.0, 535000.0], [3180.0, 1505000.0], [4285.0, 1650000.0], [2270.0, 500000.0], [1770.0, 1175000.0], [4650.0, 1750000.0], [2250.0, 250000.0], [2400.0, 675000.0], [3695.0, 994900.0], [2260.0, 705000.0], [2280.0, 567500.0], [2220.0, 427000.0], [2570.0, 715000.0], [1330.0, 553000.0], [1690.0, 240000.0], [1050.0, 349950.0], [1130.0, 411000.0], [2220.0, 585000.0], [2340.0, 569500.0], [1970.0, 339000.0], [2500.0, 661500.0], [1410.0, 175000.0], [2710.0, 502700.0], [2960.0, 539950.0], [3450.0, 832500.0], [2700.0, 723000.0], [2390.0, 770126.0], [1840.0, 645000.0], [1560.0, 291000.0], [810.0, 285000.0], [3060.0, 399000.0], [3810.0, 1700000.0], [2010.0, 415000.0], [2720.0, 456000.0], [2930.0, 445000.0], [1490.0, 735000.0], [2110.0, 585000.0], [1995.0, 505000.0], [2220.0, 405000.0], [1650.0, 371500.0], [3030.0, 471000.0], [1240.0, 699999.0], [1300.0, 250000.0], [1710.0, 247500.0], [1000.0, 225000.0], [2950.0, 455000.0], [4190.0, 1150000.0], [1920.0, 320000.0], [900.0, 305000.0], [2700.0, 426500.0], [2030.0, 572500.0], [2530.0, 450000.0], [1460.0, 495000.0], [3740.0, 999950.0], [1950.0, 328500.0], [2305.0, 705000.0], [1390.0, 440000.0], [1420.0, 202000.0], [2280.0, 597000.0], [1180.0, 215000.0], [2620.0, 900000.0], [2670.0, 405000.0], [2820.0, 750000.0], [890.0, 150000.0], [1870.0, 229500.0], [1300.0, 232000.0], [1180.0, 400000.0], [940.0, 341000.0], [1020.0, 350000.0], [2060.0, 323800.0], [1920.0, 652000.0], [1040.0, 160000.0], [2860.0, 750000.0], [3160.0, 452100.0], [1610.0, 277000.0], [1840.0, 262000.0], [4710.0, 2180000.0], [3690.0, 1115000.0], [1760.0, 444950.0], [1480.0, 547000.0], [2730.0, 545000.0], [3820.0, 611000.0], [1720.0, 420000.0], [2960.0, 875000.0], [1910.0, 650000.0], [2430.0, 580000.0], [1670.0, 375000.0], [2290.0, 635000.0], [1260.0, 290000.0], [1920.0, 495000.0], [2590.0, 570000.0], [2070.0, 337500.0], [2700.0, 674725.0], [2520.0, 372000.0], [2530.0, 625000.0], [950.0, 339000.0], [2220.0, 456000.0], [3500.0, 592500.0], [880.0, 334550.0], [870.0, 177000.0], [1150.0, 350000.0], [3180.0, 680000.0], [1150.0, 213500.0], [1170.0, 183000.0], [1440.0, 478000.0], [1720.0, 383000.0], [1240.0, 390000.0], [1990.0, 560200.0], [2190.0, 530000.0], [2480.0, 340000.0], [2380.0, 446250.0], [3930.0, 1485000.0], [2610.0, 575000.0], [5130.0, 1599950.0], [790.0, 115000.0], [1160.0, 262500.0], [1970.0, 460000.0], [2880.0, 845000.0], [4210.0, 900000.0], [3240.0, 651000.0], [1490.0, 410000.0], [1140.0, 335000.0], [2000.0, 593700.0], [760.0, 190000.0], [1900.0, 327000.0], [2140.0, 680000.0], [750.0, 261000.0], [1050.0, 521000.0], [1620.0, 800000.0], [1690.0, 372977.0], [3160.0, 1078000.0], [2390.0, 799000.0], [2710.0, 258000.0], [1680.0, 560000.0], [2770.0, 650000.0], [2740.0, 386000.0], [2830.0, 614000.0], [2030.0, 395000.0], [2300.0, 525000.0], [2600.0, 310000.0], [2030.0, 906000.0], [1090.0, 204000.0], [920.0, 356000.0], [1410.0, 413000.0], [3370.0, 600000.0], [2370.0, 387865.0], [1270.0, 292000.0], [3130.0, 302300.0], [5310.0, 2300000.0], [1820.0, 532000.0], [1400.0, 279900.0], [1730.0, 396675.0], [2970.0, 715000.0], [3070.0, 880000.0], [2580.0, 456500.0], [1210.0, 353000.0], [1160.0, 506000.0], [1420.0, 268500.0], [1420.0, 413107.0], [2970.0, 320000.0], [1830.0, 323000.0], [1850.0, 830000.0], [810.0, 215000.0], [1740.0, 350000.0], [970.0, 170000.0], [890.0, 180000.0], [3340.0, 870000.0], [960.0, 205000.0], [1450.0, 375000.0], [4480.0, 835000.0], [1290.0, 781000.0], [1510.0, 575000.0], [1500.0, 290000.0], [1670.0, 507000.0], [1900.0, 539000.0], [4450.0, 1300000.0], [1830.0, 210000.0], [1140.0, 160000.0], [2470.0, 550000.0], [4280.0, 2050000.0], [1470.0, 150550.0], [2150.0, 435000.0], [1930.0, 326000.0], [1660.0, 625000.0], [960.0, 179950.0], [1360.0, 630000.0], [1600.0, 240000.0], [980.0, 185000.0], [2330.0, 530000.0], [900.0, 329000.0], [2170.0, 399000.0], [2640.0, 1025000.0], [2160.0, 324888.0], [2000.0, 593000.0], [1040.0, 600000.0], [1610.0, 626500.0], [3280.0, 1875000.0], [800.0, 299950.0], [960.0, 289500.0], [4750.0, 1122500.0], [1480.0, 315000.0], [1810.0, 420000.0], [2720.0, 739000.0], [3120.0, 760000.0], [3060.0, 1266525.0], [1650.0, 370000.0], [2790.0, 815000.0], [3460.0, 808000.0], [2860.0, 740000.0], [1930.0, 432500.0], [1160.0, 215000.0], [2050.0, 314500.0], [1720.0, 290256.0], [2040.0, 450000.0], [1256.0, 316750.0], [1340.0, 383000.0], [2590.0, 569888.0], [5210.0, 2195000.0], [3590.0, 1325000.0], [2590.0, 465000.0], [1660.0, 320000.0], [2920.0, 1400000.0], [2420.0, 1010000.0], [1410.0, 425000.0], [2020.0, 521000.0], [2740.0, 775000.0], [1930.0, 325000.0], [4430.0, 1485000.0], [1930.0, 310000.0], [3100.0, 449950.0], [1260.0, 785000.0], [1600.0, 308550.0], [1250.0, 888000.0], [1310.0, 225000.0], [1610.0, 305000.0], [1480.0, 446450.0], [980.0, 215000.0], [1990.0, 536000.0], [3750.0, 910000.0], [1700.0, 262000.0], [2440.0, 340000.0], [2090.0, 477500.0], [3160.0, 1250000.0], [4883.0, 537000.0], [2000.0, 450000.0], [2140.0, 210000.0], [1760.0, 220000.0], [2220.0, 850000.0], [1050.0, 435000.0], [2890.0, 930000.0], [1750.0, 510000.0], [1180.0, 425000.0], [1530.0, 265000.0], [1550.0, 360000.0], [1700.0, 347950.0], [3020.0, 975000.0], [1450.0, 274000.0], [1850.0, 476100.0], [840.0, 275000.0], [2230.0, 590000.0], [4430.0, 1960000.0], [2050.0, 540000.0], [3990.0, 2720000.0], [3720.0, 875000.0], [1980.0, 425000.0], [3490.0, 830000.0], [2830.0, 1115500.0], [1510.0, 327000.0], [3600.0, 1415000.0], [2529.0, 370950.0], [2518.0, 643000.0], [2030.0, 562500.0], [2040.0, 355000.0], [2520.0, 335000.0], [2510.0, 800000.0], [1200.0, 228950.0], [790.0, 189000.0], [2970.0, 775950.0], [2890.0, 1100000.0], [3690.0, 725000.0], [2500.0, 575000.0], [1820.0, 425000.0], [3450.0, 755000.0], [1909.0, 630500.0], [2740.0, 470000.0], [1470.0, 352500.0], [2480.0, 583800.0], [1640.0, 410000.0], [1320.0, 575000.0], [2240.0, 635000.0], [3050.0, 585000.0], [1860.0, 350000.0], [1360.0, 280000.0], [1800.0, 349000.0], [1910.0, 650000.0], [1280.0, 281000.0], [2140.0, 636000.0], [1710.0, 158550.0], [1770.0, 490000.0], [1995.0, 645000.0], [1830.0, 325000.0], [3850.0, 1060000.0], [670.0, 107000.0], [830.0, 271115.0], [840.0, 530000.0], [1330.0, 482500.0], [2100.0, 305000.0], [550.0, 290000.0], [2500.0, 580000.0], [1860.0, 580000.0], [1480.0, 505000.0], [2650.0, 695000.0], [2630.0, 576925.0], [2420.0, 725000.0], [1810.0, 360000.0], [1740.0, 470000.0], [1280.0, 687500.0], [1970.0, 406500.0], [2470.0, 898000.0], [2010.0, 650000.0], [1460.0, 265800.0], [930.0, 190000.0], [1350.0, 349990.0], [2400.0, 415000.0], [1580.0, 475000.0], [5760.0, 2880500.0], [2250.0, 333490.0], [3320.0, 962000.0], [2000.0, 334000.0], [1410.0, 440000.0], [2950.0, 482000.0], [750.0, 258000.0], [1540.0, 484998.0], [5180.0, 1488000.0], [1720.0, 255000.0], [2480.0, 906000.0], [2730.0, 374950.0], [1380.0, 350000.0], [2060.0, 560000.0], [1810.0, 340500.0], [1600.0, 364500.0], [1330.0, 197500.0], [1470.0, 613000.0], [7620.0, 1680000.0], [2000.0, 310597.0], [2140.0, 230000.0], [1070.0, 195000.0], [980.0, 550000.0], [1850.0, 230000.0], [1730.0, 317500.0], [2880.0, 560000.0], [2710.0, 370000.0], [1430.0, 297000.0], [3160.0, 553000.0], [4660.0, 1280000.0], [1240.0, 320000.0], [2030.0, 515000.0], [3050.0, 563950.0], [1930.0, 218000.0], [1080.0, 390000.0], [2820.0, 398000.0], [2280.0, 820000.0], [2329.0, 327555.0], [2440.0, 925000.0], [2140.0, 435000.0], [2070.0, 449950.0], [1790.0, 475000.0], [3370.0, 1135000.0], [1210.0, 450000.0], [670.0, 185000.0], [1340.0, 330000.0], [1160.0, 315500.0], [3140.0, 760000.0], [1140.0, 379000.0], [2180.0, 657000.0], [2940.0, 435000.0], [2220.0, 585000.0], [2437.0, 285000.0], [2200.0, 259875.0], [1920.0, 341000.0], [3720.0, 780000.0], [2280.0, 622100.0], [2310.0, 765000.0], [4100.0, 775000.0], [1300.0, 448500.0], [1270.0, 140000.0], [3180.0, 1050000.0], [2510.0, 955000.0], [1930.0, 588000.0], [2400.0, 420000.0], [1540.0, 550000.0], [3740.0, 860000.0], [5240.0, 1862000.0], [1140.0, 277000.0], [1830.0, 440000.0], [3080.0, 830000.0], [2240.0, 328000.0], [2650.0, 350000.0], [2580.0, 449500.0], [3260.0, 715000.0], [1640.0, 207500.0], [1260.0, 465750.0], [1090.0, 394950.0], [1980.0, 725000.0], [1290.0, 275000.0], [1900.0, 270000.0], [1200.0, 170000.0], [1400.0, 386500.0], [2980.0, 610000.0], [2020.0, 245000.0], [2510.0, 290500.0], [2370.0, 522500.0], [1440.0, 495000.0], [3140.0, 529888.0], [2210.0, 635250.0], [1000.0, 159995.0], [3670.0, 731000.0], [1280.0, 360000.0], [2170.0, 278000.0], [3130.0, 975000.0], [2990.0, 575000.0], [2440.0, 435000.0], [1260.0, 374000.0], [4300.0, 1450000.0], [720.0, 150000.0], [1530.0, 410000.0], [1670.0, 252000.0], [1365.0, 530000.0], [3052.0, 425000.0], [1870.0, 314500.0], [2220.0, 650000.0], [1650.0, 390000.0], [4610.0, 1648000.0], [660.0, 385000.0], [1340.0, 300000.0], [1470.0, 465000.0], [1830.0, 323000.0], [2450.0, 550000.0], [2060.0, 746300.0], [3390.0, 303500.0], [1500.0, 457500.0], [2210.0, 590000.0], [1540.0, 759600.0], [2330.0, 490000.0], [2130.0, 667500.0], [2070.0, 542950.0], [2490.0, 527900.0], [1770.0, 675000.0], [2598.0, 428900.0], [860.0, 160000.0], [1160.0, 210000.0], [690.0, 139000.0], [3360.0, 845000.0], [1350.0, 314000.0], [920.0, 380000.0], [2380.0, 594950.0], [1670.0, 304000.0], [890.0, 220000.0], [1270.0, 313500.0], [1000.0, 424950.0], [1130.0, 250000.0], [2180.0, 379000.0], [4030.0, 912000.0], [1380.0, 408000.0], [2520.0, 765000.0], [2850.0, 650000.0], [2910.0, 701000.0], [2330.0, 453000.0], [2310.0, 309950.0], [2520.0, 896000.0], [2780.0, 675000.0], [840.0, 400000.0], [1950.0, 275000.0], [1920.0, 245000.0], [2450.0, 559950.0], [2780.0, 645000.0], [1800.0, 385000.0], [1640.0, 342000.0], [1970.0, 350000.0], [2840.0, 713000.0], [2650.0, 398651.0], [2280.0, 280000.0], [1660.0, 410000.0], [1640.0, 230000.0], [2500.0, 615000.0], [2440.0, 720000.0], [1270.0, 475000.0], [2610.0, 390000.0], [2280.0, 446000.0], [2590.0, 760000.0], [1710.0, 271000.0], [1380.0, 525000.0], [1840.0, 285000.0], [2700.0, 524950.0], [1510.0, 335000.0], [1480.0, 283000.0], [1020.0, 441750.0], [1740.0, 266500.0], [2380.0, 439950.0], [1509.0, 401500.0], [1510.0, 275000.0], [1720.0, 200000.0], [2350.0, 459995.0], [1640.0, 365000.0], [1660.0, 270000.0], [1900.0, 450000.0], [1100.0, 184000.0], [1710.0, 488500.0], [2130.0, 285000.0], [2590.0, 355000.0], [1980.0, 239000.0], [1600.0, 308950.0], [950.0, 325000.0], [2020.0, 565000.0], [1646.0, 305000.0], [3160.0, 965000.0], [2910.0, 915000.0], [2400.0, 650000.0], [1010.0, 235000.0], [1000.0, 380000.0], [5190.0, 925000.0], [3040.0, 538900.0], [2520.0, 875000.0], [2015.0, 988500.0], [1340.0, 381000.0], [1490.0, 460500.0], [2200.0, 339950.0], [2590.0, 540000.0], [1190.0, 440000.0], [1770.0, 370000.0], [2310.0, 407450.0], [1860.0, 967000.0], [1760.0, 780500.0], [1690.0, 245000.0], [1810.0, 259000.0], [1070.0, 315000.0], [1470.0, 265953.0], [1000.0, 286300.0], [1540.0, 216650.0], [3830.0, 989990.0], [1830.0, 339000.0], [2200.0, 320900.0], [2950.0, 992000.0], [1760.0, 215000.0], [1660.0, 350000.0], [1510.0, 397500.0], [2990.0, 772000.0], [1660.0, 680000.0], [1730.0, 300000.0], [3420.0, 789900.0], [2640.0, 650000.0], [1730.0, 265000.0], [2110.0, 638000.0], [2420.0, 590000.0], [1220.0, 196000.0], [1930.0, 345500.0], [1430.0, 478000.0], [1560.0, 537000.0], [2000.0, 441000.0], [1160.0, 317000.0], [1400.0, 358500.0], [1500.0, 379900.0], [2110.0, 425000.0], [4720.0, 745000.0], [1710.0, 353750.0], [2200.0, 480000.0], [3170.0, 820000.0], [1640.0, 443000.0], [1580.0, 267000.0], [1910.0, 435000.0], [2730.0, 612500.0], [4560.0, 1490000.0], [1470.0, 479000.0]], \"columns\": [{\"dtype\": \"str\", \"name\": \"id\"}, {\"dtype\": \"datetime\", \"name\": \"date\"}, {\"dtype\": \"float\", \"name\": \"price\"}, {\"dtype\": \"float\", \"name\": \"bedrooms\"}, {\"dtype\": \"float\", \"name\": \"bathrooms\"}, {\"dtype\": \"float\", \"name\": \"sqft_living\"}, {\"dtype\": \"int\", \"name\": \"sqft_lot\"}, {\"dtype\": \"str\", \"name\": \"floors\"}, {\"dtype\": \"int\", \"name\": \"waterfront\"}, {\"dtype\": \"int\", \"name\": \"view\"}, {\"dtype\": \"int\", \"name\": \"condition\"}, {\"dtype\": \"int\", \"name\": \"grade\"}, {\"dtype\": \"int\", \"name\": \"sqft_above\"}, {\"dtype\": \"int\", \"name\": \"sqft_basement\"}, {\"dtype\": \"int\", \"name\": \"yr_built\"}, {\"dtype\": \"int\", \"name\": \"yr_renovated\"}, {\"dtype\": \"str\", \"name\": \"zipcode\"}, {\"dtype\": \"float\", \"name\": \"lat\"}, {\"dtype\": \"float\", \"name\": \"long\"}, {\"dtype\": \"float\", \"name\": \"sqft_living15\"}, {\"dtype\": \"float\", \"name\": \"sqft_lot15\"}]}, e);\n",
       "                });\n",
       "            })();\n",
       "        "
      ]
     },
     "metadata": {},
     "output_type": "display_data"
    }
   ],
   "source": [
    "graphlab.canvas.set_target('ipynb')\n",
    "sales.show(view=\"Scatter Plot\", x=\"sqft_living\", y=\"price\")"
   ]
  },
  {
   "cell_type": "code",
   "execution_count": null,
   "metadata": {},
   "outputs": [],
   "source": []
  }
 ],
 "metadata": {
  "kernelspec": {
   "display_name": "Python 2",
   "language": "python",
   "name": "python2"
  },
  "language_info": {
   "codemirror_mode": {
    "name": "ipython",
    "version": 2
   },
   "file_extension": ".py",
   "mimetype": "text/x-python",
   "name": "python",
   "nbconvert_exporter": "python",
   "pygments_lexer": "ipython2",
   "version": "2.7.16"
  }
 },
 "nbformat": 4,
 "nbformat_minor": 1
}
